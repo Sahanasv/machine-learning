{
 "cells": [
  {
   "cell_type": "code",
   "execution_count": 1,
   "id": "4a034eb0",
   "metadata": {},
   "outputs": [],
   "source": [
    "#Importing all the necessary libraries\n",
    "import pandas as pd\n",
    "import numpy as np\n",
    "import matplotlib.pyplot as plt\n",
    "import seaborn as sns"
   ]
  },
  {
   "cell_type": "code",
   "execution_count": 2,
   "id": "7daeac2a",
   "metadata": {},
   "outputs": [],
   "source": [
    "df=pd.read_csv('C:\\\\Users\\\\Savina\\\\Downloads\\\\uber_dataset.csv')"
   ]
  },
  {
   "cell_type": "code",
   "execution_count": 3,
   "id": "19e8246a",
   "metadata": {},
   "outputs": [
    {
     "data": {
      "text/html": [
       "<div>\n",
       "<style scoped>\n",
       "    .dataframe tbody tr th:only-of-type {\n",
       "        vertical-align: middle;\n",
       "    }\n",
       "\n",
       "    .dataframe tbody tr th {\n",
       "        vertical-align: top;\n",
       "    }\n",
       "\n",
       "    .dataframe thead th {\n",
       "        text-align: right;\n",
       "    }\n",
       "</style>\n",
       "<table border=\"1\" class=\"dataframe\">\n",
       "  <thead>\n",
       "    <tr style=\"text-align: right;\">\n",
       "      <th></th>\n",
       "      <th>Priceperweek</th>\n",
       "      <th>Population</th>\n",
       "      <th>Monthlyincome</th>\n",
       "      <th>Averageparkingpermonth</th>\n",
       "      <th>Numberofweeklyriders</th>\n",
       "    </tr>\n",
       "  </thead>\n",
       "  <tbody>\n",
       "    <tr>\n",
       "      <th>0</th>\n",
       "      <td>15.0</td>\n",
       "      <td>1800000</td>\n",
       "      <td>5800.0</td>\n",
       "      <td>50.0</td>\n",
       "      <td>192000</td>\n",
       "    </tr>\n",
       "    <tr>\n",
       "      <th>1</th>\n",
       "      <td>15.0</td>\n",
       "      <td>1790000</td>\n",
       "      <td>6200.0</td>\n",
       "      <td>50.0</td>\n",
       "      <td>190400</td>\n",
       "    </tr>\n",
       "    <tr>\n",
       "      <th>2</th>\n",
       "      <td>15.0</td>\n",
       "      <td>1780000</td>\n",
       "      <td>6400.0</td>\n",
       "      <td>60.0</td>\n",
       "      <td>191200</td>\n",
       "    </tr>\n",
       "    <tr>\n",
       "      <th>3</th>\n",
       "      <td>25.0</td>\n",
       "      <td>1778000</td>\n",
       "      <td>6500.0</td>\n",
       "      <td>60.0</td>\n",
       "      <td>177600</td>\n",
       "    </tr>\n",
       "    <tr>\n",
       "      <th>4</th>\n",
       "      <td>25.0</td>\n",
       "      <td>1750000</td>\n",
       "      <td>6550.0</td>\n",
       "      <td>60.0</td>\n",
       "      <td>176800</td>\n",
       "    </tr>\n",
       "    <tr>\n",
       "      <th>...</th>\n",
       "      <td>...</td>\n",
       "      <td>...</td>\n",
       "      <td>...</td>\n",
       "      <td>...</td>\n",
       "      <td>...</td>\n",
       "    </tr>\n",
       "    <tr>\n",
       "      <th>403</th>\n",
       "      <td>25.0</td>\n",
       "      <td>1750000</td>\n",
       "      <td>6550.0</td>\n",
       "      <td>60.0</td>\n",
       "      <td>176800</td>\n",
       "    </tr>\n",
       "    <tr>\n",
       "      <th>404</th>\n",
       "      <td>25.0</td>\n",
       "      <td>1740000</td>\n",
       "      <td>6580.0</td>\n",
       "      <td>70.0</td>\n",
       "      <td>178400</td>\n",
       "    </tr>\n",
       "    <tr>\n",
       "      <th>405</th>\n",
       "      <td>25.0</td>\n",
       "      <td>1725000</td>\n",
       "      <td>8200.0</td>\n",
       "      <td>75.0</td>\n",
       "      <td>180800</td>\n",
       "    </tr>\n",
       "    <tr>\n",
       "      <th>406</th>\n",
       "      <td>30.0</td>\n",
       "      <td>1725000</td>\n",
       "      <td>8600.0</td>\n",
       "      <td>75.0</td>\n",
       "      <td>175200</td>\n",
       "    </tr>\n",
       "    <tr>\n",
       "      <th>407</th>\n",
       "      <td>30.0</td>\n",
       "      <td>1720000</td>\n",
       "      <td>8800.0</td>\n",
       "      <td>75.0</td>\n",
       "      <td>174400</td>\n",
       "    </tr>\n",
       "  </tbody>\n",
       "</table>\n",
       "<p>408 rows × 5 columns</p>\n",
       "</div>"
      ],
      "text/plain": [
       "     Priceperweek  Population  Monthlyincome  Averageparkingpermonth  \\\n",
       "0            15.0     1800000         5800.0                    50.0   \n",
       "1            15.0     1790000         6200.0                    50.0   \n",
       "2            15.0     1780000         6400.0                    60.0   \n",
       "3            25.0     1778000         6500.0                    60.0   \n",
       "4            25.0     1750000         6550.0                    60.0   \n",
       "..            ...         ...            ...                     ...   \n",
       "403          25.0     1750000         6550.0                    60.0   \n",
       "404          25.0     1740000         6580.0                    70.0   \n",
       "405          25.0     1725000         8200.0                    75.0   \n",
       "406          30.0     1725000         8600.0                    75.0   \n",
       "407          30.0     1720000         8800.0                    75.0   \n",
       "\n",
       "     Numberofweeklyriders  \n",
       "0                  192000  \n",
       "1                  190400  \n",
       "2                  191200  \n",
       "3                  177600  \n",
       "4                  176800  \n",
       "..                    ...  \n",
       "403                176800  \n",
       "404                178400  \n",
       "405                180800  \n",
       "406                175200  \n",
       "407                174400  \n",
       "\n",
       "[408 rows x 5 columns]"
      ]
     },
     "execution_count": 3,
     "metadata": {},
     "output_type": "execute_result"
    }
   ],
   "source": [
    "df"
   ]
  },
  {
   "cell_type": "code",
   "execution_count": 4,
   "id": "2f53d6e3",
   "metadata": {},
   "outputs": [
    {
     "data": {
      "text/html": [
       "<div>\n",
       "<style scoped>\n",
       "    .dataframe tbody tr th:only-of-type {\n",
       "        vertical-align: middle;\n",
       "    }\n",
       "\n",
       "    .dataframe tbody tr th {\n",
       "        vertical-align: top;\n",
       "    }\n",
       "\n",
       "    .dataframe thead th {\n",
       "        text-align: right;\n",
       "    }\n",
       "</style>\n",
       "<table border=\"1\" class=\"dataframe\">\n",
       "  <thead>\n",
       "    <tr style=\"text-align: right;\">\n",
       "      <th></th>\n",
       "      <th>Priceperweek</th>\n",
       "      <th>Population</th>\n",
       "      <th>Monthlyincome</th>\n",
       "      <th>Averageparkingpermonth</th>\n",
       "      <th>Numberofweeklyriders</th>\n",
       "    </tr>\n",
       "  </thead>\n",
       "  <tbody>\n",
       "    <tr>\n",
       "      <th>0</th>\n",
       "      <td>15.0</td>\n",
       "      <td>1800000</td>\n",
       "      <td>5800.0</td>\n",
       "      <td>50.0</td>\n",
       "      <td>192000</td>\n",
       "    </tr>\n",
       "    <tr>\n",
       "      <th>1</th>\n",
       "      <td>15.0</td>\n",
       "      <td>1790000</td>\n",
       "      <td>6200.0</td>\n",
       "      <td>50.0</td>\n",
       "      <td>190400</td>\n",
       "    </tr>\n",
       "    <tr>\n",
       "      <th>2</th>\n",
       "      <td>15.0</td>\n",
       "      <td>1780000</td>\n",
       "      <td>6400.0</td>\n",
       "      <td>60.0</td>\n",
       "      <td>191200</td>\n",
       "    </tr>\n",
       "    <tr>\n",
       "      <th>3</th>\n",
       "      <td>25.0</td>\n",
       "      <td>1778000</td>\n",
       "      <td>6500.0</td>\n",
       "      <td>60.0</td>\n",
       "      <td>177600</td>\n",
       "    </tr>\n",
       "    <tr>\n",
       "      <th>4</th>\n",
       "      <td>25.0</td>\n",
       "      <td>1750000</td>\n",
       "      <td>6550.0</td>\n",
       "      <td>60.0</td>\n",
       "      <td>176800</td>\n",
       "    </tr>\n",
       "  </tbody>\n",
       "</table>\n",
       "</div>"
      ],
      "text/plain": [
       "   Priceperweek  Population  Monthlyincome  Averageparkingpermonth  \\\n",
       "0          15.0     1800000         5800.0                    50.0   \n",
       "1          15.0     1790000         6200.0                    50.0   \n",
       "2          15.0     1780000         6400.0                    60.0   \n",
       "3          25.0     1778000         6500.0                    60.0   \n",
       "4          25.0     1750000         6550.0                    60.0   \n",
       "\n",
       "   Numberofweeklyriders  \n",
       "0                192000  \n",
       "1                190400  \n",
       "2                191200  \n",
       "3                177600  \n",
       "4                176800  "
      ]
     },
     "execution_count": 4,
     "metadata": {},
     "output_type": "execute_result"
    }
   ],
   "source": [
    "df.head()"
   ]
  },
  {
   "cell_type": "code",
   "execution_count": 5,
   "id": "724009ee",
   "metadata": {},
   "outputs": [
    {
     "data": {
      "text/html": [
       "<div>\n",
       "<style scoped>\n",
       "    .dataframe tbody tr th:only-of-type {\n",
       "        vertical-align: middle;\n",
       "    }\n",
       "\n",
       "    .dataframe tbody tr th {\n",
       "        vertical-align: top;\n",
       "    }\n",
       "\n",
       "    .dataframe thead th {\n",
       "        text-align: right;\n",
       "    }\n",
       "</style>\n",
       "<table border=\"1\" class=\"dataframe\">\n",
       "  <thead>\n",
       "    <tr style=\"text-align: right;\">\n",
       "      <th></th>\n",
       "      <th>Priceperweek</th>\n",
       "      <th>Population</th>\n",
       "      <th>Monthlyincome</th>\n",
       "      <th>Averageparkingpermonth</th>\n",
       "      <th>Numberofweeklyriders</th>\n",
       "    </tr>\n",
       "  </thead>\n",
       "  <tbody>\n",
       "    <tr>\n",
       "      <th>0</th>\n",
       "      <td>15.0</td>\n",
       "      <td>1800000</td>\n",
       "      <td>5800.0</td>\n",
       "      <td>50.0</td>\n",
       "      <td>192000</td>\n",
       "    </tr>\n",
       "    <tr>\n",
       "      <th>1</th>\n",
       "      <td>15.0</td>\n",
       "      <td>1790000</td>\n",
       "      <td>6200.0</td>\n",
       "      <td>50.0</td>\n",
       "      <td>190400</td>\n",
       "    </tr>\n",
       "    <tr>\n",
       "      <th>2</th>\n",
       "      <td>15.0</td>\n",
       "      <td>1780000</td>\n",
       "      <td>6400.0</td>\n",
       "      <td>60.0</td>\n",
       "      <td>191200</td>\n",
       "    </tr>\n",
       "    <tr>\n",
       "      <th>3</th>\n",
       "      <td>25.0</td>\n",
       "      <td>1778000</td>\n",
       "      <td>6500.0</td>\n",
       "      <td>60.0</td>\n",
       "      <td>177600</td>\n",
       "    </tr>\n",
       "    <tr>\n",
       "      <th>4</th>\n",
       "      <td>25.0</td>\n",
       "      <td>1750000</td>\n",
       "      <td>6550.0</td>\n",
       "      <td>60.0</td>\n",
       "      <td>176800</td>\n",
       "    </tr>\n",
       "    <tr>\n",
       "      <th>5</th>\n",
       "      <td>25.0</td>\n",
       "      <td>1740000</td>\n",
       "      <td>6580.0</td>\n",
       "      <td>70.0</td>\n",
       "      <td>178400</td>\n",
       "    </tr>\n",
       "    <tr>\n",
       "      <th>6</th>\n",
       "      <td>25.0</td>\n",
       "      <td>1725000</td>\n",
       "      <td>8200.0</td>\n",
       "      <td>75.0</td>\n",
       "      <td>180800</td>\n",
       "    </tr>\n",
       "    <tr>\n",
       "      <th>7</th>\n",
       "      <td>30.0</td>\n",
       "      <td>1725000</td>\n",
       "      <td>8600.0</td>\n",
       "      <td>75.0</td>\n",
       "      <td>175200</td>\n",
       "    </tr>\n",
       "    <tr>\n",
       "      <th>8</th>\n",
       "      <td>30.0</td>\n",
       "      <td>1720000</td>\n",
       "      <td>8800.0</td>\n",
       "      <td>75.0</td>\n",
       "      <td>174400</td>\n",
       "    </tr>\n",
       "    <tr>\n",
       "      <th>9</th>\n",
       "      <td>30.0</td>\n",
       "      <td>1705000</td>\n",
       "      <td>9200.0</td>\n",
       "      <td>NaN</td>\n",
       "      <td>173920</td>\n",
       "    </tr>\n",
       "  </tbody>\n",
       "</table>\n",
       "</div>"
      ],
      "text/plain": [
       "   Priceperweek  Population  Monthlyincome  Averageparkingpermonth  \\\n",
       "0          15.0     1800000         5800.0                    50.0   \n",
       "1          15.0     1790000         6200.0                    50.0   \n",
       "2          15.0     1780000         6400.0                    60.0   \n",
       "3          25.0     1778000         6500.0                    60.0   \n",
       "4          25.0     1750000         6550.0                    60.0   \n",
       "5          25.0     1740000         6580.0                    70.0   \n",
       "6          25.0     1725000         8200.0                    75.0   \n",
       "7          30.0     1725000         8600.0                    75.0   \n",
       "8          30.0     1720000         8800.0                    75.0   \n",
       "9          30.0     1705000         9200.0                     NaN   \n",
       "\n",
       "   Numberofweeklyriders  \n",
       "0                192000  \n",
       "1                190400  \n",
       "2                191200  \n",
       "3                177600  \n",
       "4                176800  \n",
       "5                178400  \n",
       "6                180800  \n",
       "7                175200  \n",
       "8                174400  \n",
       "9                173920  "
      ]
     },
     "execution_count": 5,
     "metadata": {},
     "output_type": "execute_result"
    }
   ],
   "source": [
    "df.head(10)"
   ]
  },
  {
   "cell_type": "code",
   "execution_count": 6,
   "id": "990b7065",
   "metadata": {},
   "outputs": [
    {
     "data": {
      "text/html": [
       "<div>\n",
       "<style scoped>\n",
       "    .dataframe tbody tr th:only-of-type {\n",
       "        vertical-align: middle;\n",
       "    }\n",
       "\n",
       "    .dataframe tbody tr th {\n",
       "        vertical-align: top;\n",
       "    }\n",
       "\n",
       "    .dataframe thead th {\n",
       "        text-align: right;\n",
       "    }\n",
       "</style>\n",
       "<table border=\"1\" class=\"dataframe\">\n",
       "  <thead>\n",
       "    <tr style=\"text-align: right;\">\n",
       "      <th></th>\n",
       "      <th>Priceperweek</th>\n",
       "      <th>Population</th>\n",
       "      <th>Monthlyincome</th>\n",
       "      <th>Averageparkingpermonth</th>\n",
       "      <th>Numberofweeklyriders</th>\n",
       "    </tr>\n",
       "  </thead>\n",
       "  <tbody>\n",
       "    <tr>\n",
       "      <th>403</th>\n",
       "      <td>25.0</td>\n",
       "      <td>1750000</td>\n",
       "      <td>6550.0</td>\n",
       "      <td>60.0</td>\n",
       "      <td>176800</td>\n",
       "    </tr>\n",
       "    <tr>\n",
       "      <th>404</th>\n",
       "      <td>25.0</td>\n",
       "      <td>1740000</td>\n",
       "      <td>6580.0</td>\n",
       "      <td>70.0</td>\n",
       "      <td>178400</td>\n",
       "    </tr>\n",
       "    <tr>\n",
       "      <th>405</th>\n",
       "      <td>25.0</td>\n",
       "      <td>1725000</td>\n",
       "      <td>8200.0</td>\n",
       "      <td>75.0</td>\n",
       "      <td>180800</td>\n",
       "    </tr>\n",
       "    <tr>\n",
       "      <th>406</th>\n",
       "      <td>30.0</td>\n",
       "      <td>1725000</td>\n",
       "      <td>8600.0</td>\n",
       "      <td>75.0</td>\n",
       "      <td>175200</td>\n",
       "    </tr>\n",
       "    <tr>\n",
       "      <th>407</th>\n",
       "      <td>30.0</td>\n",
       "      <td>1720000</td>\n",
       "      <td>8800.0</td>\n",
       "      <td>75.0</td>\n",
       "      <td>174400</td>\n",
       "    </tr>\n",
       "  </tbody>\n",
       "</table>\n",
       "</div>"
      ],
      "text/plain": [
       "     Priceperweek  Population  Monthlyincome  Averageparkingpermonth  \\\n",
       "403          25.0     1750000         6550.0                    60.0   \n",
       "404          25.0     1740000         6580.0                    70.0   \n",
       "405          25.0     1725000         8200.0                    75.0   \n",
       "406          30.0     1725000         8600.0                    75.0   \n",
       "407          30.0     1720000         8800.0                    75.0   \n",
       "\n",
       "     Numberofweeklyriders  \n",
       "403                176800  \n",
       "404                178400  \n",
       "405                180800  \n",
       "406                175200  \n",
       "407                174400  "
      ]
     },
     "execution_count": 6,
     "metadata": {},
     "output_type": "execute_result"
    }
   ],
   "source": [
    "df.tail()"
   ]
  },
  {
   "cell_type": "code",
   "execution_count": 7,
   "id": "c6c05085",
   "metadata": {},
   "outputs": [
    {
     "data": {
      "text/html": [
       "<div>\n",
       "<style scoped>\n",
       "    .dataframe tbody tr th:only-of-type {\n",
       "        vertical-align: middle;\n",
       "    }\n",
       "\n",
       "    .dataframe tbody tr th {\n",
       "        vertical-align: top;\n",
       "    }\n",
       "\n",
       "    .dataframe thead th {\n",
       "        text-align: right;\n",
       "    }\n",
       "</style>\n",
       "<table border=\"1\" class=\"dataframe\">\n",
       "  <thead>\n",
       "    <tr style=\"text-align: right;\">\n",
       "      <th></th>\n",
       "      <th>Priceperweek</th>\n",
       "      <th>Population</th>\n",
       "      <th>Monthlyincome</th>\n",
       "      <th>Averageparkingpermonth</th>\n",
       "      <th>Numberofweeklyriders</th>\n",
       "    </tr>\n",
       "  </thead>\n",
       "  <tbody>\n",
       "    <tr>\n",
       "      <th>400</th>\n",
       "      <td>15.0</td>\n",
       "      <td>1790000</td>\n",
       "      <td>6200.0</td>\n",
       "      <td>50.0</td>\n",
       "      <td>190400</td>\n",
       "    </tr>\n",
       "    <tr>\n",
       "      <th>401</th>\n",
       "      <td>15.0</td>\n",
       "      <td>1780000</td>\n",
       "      <td>6400.0</td>\n",
       "      <td>60.0</td>\n",
       "      <td>191200</td>\n",
       "    </tr>\n",
       "    <tr>\n",
       "      <th>402</th>\n",
       "      <td>25.0</td>\n",
       "      <td>1778000</td>\n",
       "      <td>6500.0</td>\n",
       "      <td>60.0</td>\n",
       "      <td>177600</td>\n",
       "    </tr>\n",
       "    <tr>\n",
       "      <th>403</th>\n",
       "      <td>25.0</td>\n",
       "      <td>1750000</td>\n",
       "      <td>6550.0</td>\n",
       "      <td>60.0</td>\n",
       "      <td>176800</td>\n",
       "    </tr>\n",
       "    <tr>\n",
       "      <th>404</th>\n",
       "      <td>25.0</td>\n",
       "      <td>1740000</td>\n",
       "      <td>6580.0</td>\n",
       "      <td>70.0</td>\n",
       "      <td>178400</td>\n",
       "    </tr>\n",
       "    <tr>\n",
       "      <th>405</th>\n",
       "      <td>25.0</td>\n",
       "      <td>1725000</td>\n",
       "      <td>8200.0</td>\n",
       "      <td>75.0</td>\n",
       "      <td>180800</td>\n",
       "    </tr>\n",
       "    <tr>\n",
       "      <th>406</th>\n",
       "      <td>30.0</td>\n",
       "      <td>1725000</td>\n",
       "      <td>8600.0</td>\n",
       "      <td>75.0</td>\n",
       "      <td>175200</td>\n",
       "    </tr>\n",
       "    <tr>\n",
       "      <th>407</th>\n",
       "      <td>30.0</td>\n",
       "      <td>1720000</td>\n",
       "      <td>8800.0</td>\n",
       "      <td>75.0</td>\n",
       "      <td>174400</td>\n",
       "    </tr>\n",
       "  </tbody>\n",
       "</table>\n",
       "</div>"
      ],
      "text/plain": [
       "     Priceperweek  Population  Monthlyincome  Averageparkingpermonth  \\\n",
       "400          15.0     1790000         6200.0                    50.0   \n",
       "401          15.0     1780000         6400.0                    60.0   \n",
       "402          25.0     1778000         6500.0                    60.0   \n",
       "403          25.0     1750000         6550.0                    60.0   \n",
       "404          25.0     1740000         6580.0                    70.0   \n",
       "405          25.0     1725000         8200.0                    75.0   \n",
       "406          30.0     1725000         8600.0                    75.0   \n",
       "407          30.0     1720000         8800.0                    75.0   \n",
       "\n",
       "     Numberofweeklyriders  \n",
       "400                190400  \n",
       "401                191200  \n",
       "402                177600  \n",
       "403                176800  \n",
       "404                178400  \n",
       "405                180800  \n",
       "406                175200  \n",
       "407                174400  "
      ]
     },
     "execution_count": 7,
     "metadata": {},
     "output_type": "execute_result"
    }
   ],
   "source": [
    "df.tail(8)"
   ]
  },
  {
   "cell_type": "code",
   "execution_count": 8,
   "id": "629c6b05",
   "metadata": {},
   "outputs": [
    {
     "data": {
      "text/html": [
       "<div>\n",
       "<style scoped>\n",
       "    .dataframe tbody tr th:only-of-type {\n",
       "        vertical-align: middle;\n",
       "    }\n",
       "\n",
       "    .dataframe tbody tr th {\n",
       "        vertical-align: top;\n",
       "    }\n",
       "\n",
       "    .dataframe thead th {\n",
       "        text-align: right;\n",
       "    }\n",
       "</style>\n",
       "<table border=\"1\" class=\"dataframe\">\n",
       "  <thead>\n",
       "    <tr style=\"text-align: right;\">\n",
       "      <th></th>\n",
       "      <th>Priceperweek</th>\n",
       "      <th>Population</th>\n",
       "      <th>Monthlyincome</th>\n",
       "      <th>Averageparkingpermonth</th>\n",
       "      <th>Numberofweeklyriders</th>\n",
       "    </tr>\n",
       "  </thead>\n",
       "  <tbody>\n",
       "    <tr>\n",
       "      <th>count</th>\n",
       "      <td>405.000000</td>\n",
       "      <td>4.080000e+02</td>\n",
       "      <td>407.000000</td>\n",
       "      <td>388.000000</td>\n",
       "      <td>408.000000</td>\n",
       "    </tr>\n",
       "    <tr>\n",
       "      <th>mean</th>\n",
       "      <td>44.762963</td>\n",
       "      <td>1.705869e+06</td>\n",
       "      <td>29314.555283</td>\n",
       "      <td>96.989691</td>\n",
       "      <td>173864.862745</td>\n",
       "    </tr>\n",
       "    <tr>\n",
       "      <th>std</th>\n",
       "      <td>24.724384</td>\n",
       "      <td>5.503611e+05</td>\n",
       "      <td>119756.806168</td>\n",
       "      <td>42.679866</td>\n",
       "      <td>77391.843354</td>\n",
       "    </tr>\n",
       "    <tr>\n",
       "      <th>min</th>\n",
       "      <td>15.000000</td>\n",
       "      <td>1.894000e+05</td>\n",
       "      <td>5800.000000</td>\n",
       "      <td>40.000000</td>\n",
       "      <td>109700.000000</td>\n",
       "    </tr>\n",
       "    <tr>\n",
       "      <th>25%</th>\n",
       "      <td>25.000000</td>\n",
       "      <td>1.620000e+06</td>\n",
       "      <td>8200.000000</td>\n",
       "      <td>70.000000</td>\n",
       "      <td>151680.000000</td>\n",
       "    </tr>\n",
       "    <tr>\n",
       "      <th>50%</th>\n",
       "      <td>30.000000</td>\n",
       "      <td>1.720000e+06</td>\n",
       "      <td>8800.000000</td>\n",
       "      <td>75.000000</td>\n",
       "      <td>174400.000000</td>\n",
       "    </tr>\n",
       "    <tr>\n",
       "      <th>75%</th>\n",
       "      <td>75.000000</td>\n",
       "      <td>1.740000e+06</td>\n",
       "      <td>14010.000000</td>\n",
       "      <td>125.000000</td>\n",
       "      <td>177600.000000</td>\n",
       "    </tr>\n",
       "    <tr>\n",
       "      <th>max</th>\n",
       "      <td>102.000000</td>\n",
       "      <td>6.569000e+06</td>\n",
       "      <td>876500.000000</td>\n",
       "      <td>200.000000</td>\n",
       "      <td>867540.000000</td>\n",
       "    </tr>\n",
       "  </tbody>\n",
       "</table>\n",
       "</div>"
      ],
      "text/plain": [
       "       Priceperweek    Population  Monthlyincome  Averageparkingpermonth  \\\n",
       "count    405.000000  4.080000e+02     407.000000              388.000000   \n",
       "mean      44.762963  1.705869e+06   29314.555283               96.989691   \n",
       "std       24.724384  5.503611e+05  119756.806168               42.679866   \n",
       "min       15.000000  1.894000e+05    5800.000000               40.000000   \n",
       "25%       25.000000  1.620000e+06    8200.000000               70.000000   \n",
       "50%       30.000000  1.720000e+06    8800.000000               75.000000   \n",
       "75%       75.000000  1.740000e+06   14010.000000              125.000000   \n",
       "max      102.000000  6.569000e+06  876500.000000              200.000000   \n",
       "\n",
       "       Numberofweeklyriders  \n",
       "count            408.000000  \n",
       "mean          173864.862745  \n",
       "std            77391.843354  \n",
       "min           109700.000000  \n",
       "25%           151680.000000  \n",
       "50%           174400.000000  \n",
       "75%           177600.000000  \n",
       "max           867540.000000  "
      ]
     },
     "execution_count": 8,
     "metadata": {},
     "output_type": "execute_result"
    }
   ],
   "source": [
    "df.describe()"
   ]
  },
  {
   "cell_type": "code",
   "execution_count": 9,
   "id": "9ef7aede",
   "metadata": {},
   "outputs": [
    {
     "name": "stdout",
     "output_type": "stream",
     "text": [
      "<class 'pandas.core.frame.DataFrame'>\n",
      "RangeIndex: 408 entries, 0 to 407\n",
      "Data columns (total 5 columns):\n",
      " #   Column                  Non-Null Count  Dtype  \n",
      "---  ------                  --------------  -----  \n",
      " 0   Priceperweek            405 non-null    float64\n",
      " 1   Population              408 non-null    int64  \n",
      " 2   Monthlyincome           407 non-null    float64\n",
      " 3   Averageparkingpermonth  388 non-null    float64\n",
      " 4   Numberofweeklyriders    408 non-null    int64  \n",
      "dtypes: float64(3), int64(2)\n",
      "memory usage: 16.1 KB\n"
     ]
    }
   ],
   "source": [
    "df.info()"
   ]
  },
  {
   "cell_type": "code",
   "execution_count": 10,
   "id": "86e55a20",
   "metadata": {},
   "outputs": [
    {
     "data": {
      "text/plain": [
       "(408, 5)"
      ]
     },
     "execution_count": 10,
     "metadata": {},
     "output_type": "execute_result"
    }
   ],
   "source": [
    "df.shape"
   ]
  },
  {
   "cell_type": "code",
   "execution_count": 11,
   "id": "7dba2f15",
   "metadata": {},
   "outputs": [
    {
     "data": {
      "text/plain": [
       "Index(['Priceperweek', 'Population', 'Monthlyincome', 'Averageparkingpermonth',\n",
       "       'Numberofweeklyriders'],\n",
       "      dtype='object')"
      ]
     },
     "execution_count": 11,
     "metadata": {},
     "output_type": "execute_result"
    }
   ],
   "source": [
    "df.columns"
   ]
  },
  {
   "cell_type": "code",
   "execution_count": 12,
   "id": "2b43f760",
   "metadata": {},
   "outputs": [
    {
     "data": {
      "text/plain": [
       "RangeIndex(start=0, stop=408, step=1)"
      ]
     },
     "execution_count": 12,
     "metadata": {},
     "output_type": "execute_result"
    }
   ],
   "source": [
    "df.index"
   ]
  },
  {
   "cell_type": "markdown",
   "id": "b5f13746",
   "metadata": {},
   "source": [
    "# Cleaning the Data"
   ]
  },
  {
   "cell_type": "code",
   "execution_count": 13,
   "id": "19552eca",
   "metadata": {},
   "outputs": [
    {
     "data": {
      "text/plain": [
       "Priceperweek               3\n",
       "Population                 0\n",
       "Monthlyincome              1\n",
       "Averageparkingpermonth    20\n",
       "Numberofweeklyriders       0\n",
       "dtype: int64"
      ]
     },
     "execution_count": 13,
     "metadata": {},
     "output_type": "execute_result"
    }
   ],
   "source": [
    "df.isnull().sum()"
   ]
  },
  {
   "cell_type": "code",
   "execution_count": 14,
   "id": "6eacebd6",
   "metadata": {},
   "outputs": [
    {
     "data": {
      "text/plain": [
       "<AxesSubplot:>"
      ]
     },
     "execution_count": 14,
     "metadata": {},
     "output_type": "execute_result"
    },
    {
     "data": {
      "image/png": "[encoded data removed]",
      "text/plain": [
       "<Figure size 432x288 with 2 Axes>"
      ]
     },
     "metadata": {
      "needs_background": "light"
     },
     "output_type": "display_data"
    }
   ],
   "source": [
    "sns.heatmap(df.isnull(),yticklabels=False,cmap='viridis')"
   ]
  },
  {
   "cell_type": "code",
   "execution_count": 15,
   "id": "a228dfb3",
   "metadata": {},
   "outputs": [],
   "source": [
    "df.Priceperweek=df.Priceperweek.fillna(df.Priceperweek.mean())"
   ]
  },
  {
   "cell_type": "code",
   "execution_count": 16,
   "id": "e19c9517",
   "metadata": {},
   "outputs": [],
   "source": [
    "df.Monthlyincome=df.Monthlyincome.fillna(df.Monthlyincome.mean())"
   ]
  },
  {
   "cell_type": "code",
   "execution_count": 17,
   "id": "862bfb5d",
   "metadata": {},
   "outputs": [],
   "source": [
    "df.Averageparkingpermonth=df.Averageparkingpermonth.fillna(df.Averageparkingpermonth.mean())"
   ]
  },
  {
   "cell_type": "code",
   "execution_count": 18,
   "id": "917f4cc2",
   "metadata": {},
   "outputs": [
    {
     "data": {
      "text/plain": [
       "Priceperweek              0\n",
       "Population                0\n",
       "Monthlyincome             0\n",
       "Averageparkingpermonth    0\n",
       "Numberofweeklyriders      0\n",
       "dtype: int64"
      ]
     },
     "execution_count": 18,
     "metadata": {},
     "output_type": "execute_result"
    }
   ],
   "source": [
    "df.isnull().sum()"
   ]
  },
  {
   "cell_type": "code",
   "execution_count": 19,
   "id": "63183a07",
   "metadata": {},
   "outputs": [
    {
     "data": {
      "text/html": [
       "<div>\n",
       "<style scoped>\n",
       "    .dataframe tbody tr th:only-of-type {\n",
       "        vertical-align: middle;\n",
       "    }\n",
       "\n",
       "    .dataframe tbody tr th {\n",
       "        vertical-align: top;\n",
       "    }\n",
       "\n",
       "    .dataframe thead th {\n",
       "        text-align: right;\n",
       "    }\n",
       "</style>\n",
       "<table border=\"1\" class=\"dataframe\">\n",
       "  <thead>\n",
       "    <tr style=\"text-align: right;\">\n",
       "      <th></th>\n",
       "      <th>Priceperweek</th>\n",
       "      <th>Population</th>\n",
       "      <th>Monthlyincome</th>\n",
       "      <th>Averageparkingpermonth</th>\n",
       "      <th>Numberofweeklyriders</th>\n",
       "    </tr>\n",
       "  </thead>\n",
       "  <tbody>\n",
       "    <tr>\n",
       "      <th>0</th>\n",
       "      <td>15.0</td>\n",
       "      <td>1800000</td>\n",
       "      <td>5800.0</td>\n",
       "      <td>50.0</td>\n",
       "      <td>192000</td>\n",
       "    </tr>\n",
       "    <tr>\n",
       "      <th>1</th>\n",
       "      <td>15.0</td>\n",
       "      <td>1790000</td>\n",
       "      <td>6200.0</td>\n",
       "      <td>50.0</td>\n",
       "      <td>190400</td>\n",
       "    </tr>\n",
       "    <tr>\n",
       "      <th>2</th>\n",
       "      <td>15.0</td>\n",
       "      <td>1780000</td>\n",
       "      <td>6400.0</td>\n",
       "      <td>60.0</td>\n",
       "      <td>191200</td>\n",
       "    </tr>\n",
       "    <tr>\n",
       "      <th>3</th>\n",
       "      <td>25.0</td>\n",
       "      <td>1778000</td>\n",
       "      <td>6500.0</td>\n",
       "      <td>60.0</td>\n",
       "      <td>177600</td>\n",
       "    </tr>\n",
       "    <tr>\n",
       "      <th>4</th>\n",
       "      <td>25.0</td>\n",
       "      <td>1750000</td>\n",
       "      <td>6550.0</td>\n",
       "      <td>60.0</td>\n",
       "      <td>176800</td>\n",
       "    </tr>\n",
       "    <tr>\n",
       "      <th>...</th>\n",
       "      <td>...</td>\n",
       "      <td>...</td>\n",
       "      <td>...</td>\n",
       "      <td>...</td>\n",
       "      <td>...</td>\n",
       "    </tr>\n",
       "    <tr>\n",
       "      <th>403</th>\n",
       "      <td>25.0</td>\n",
       "      <td>1750000</td>\n",
       "      <td>6550.0</td>\n",
       "      <td>60.0</td>\n",
       "      <td>176800</td>\n",
       "    </tr>\n",
       "    <tr>\n",
       "      <th>404</th>\n",
       "      <td>25.0</td>\n",
       "      <td>1740000</td>\n",
       "      <td>6580.0</td>\n",
       "      <td>70.0</td>\n",
       "      <td>178400</td>\n",
       "    </tr>\n",
       "    <tr>\n",
       "      <th>405</th>\n",
       "      <td>25.0</td>\n",
       "      <td>1725000</td>\n",
       "      <td>8200.0</td>\n",
       "      <td>75.0</td>\n",
       "      <td>180800</td>\n",
       "    </tr>\n",
       "    <tr>\n",
       "      <th>406</th>\n",
       "      <td>30.0</td>\n",
       "      <td>1725000</td>\n",
       "      <td>8600.0</td>\n",
       "      <td>75.0</td>\n",
       "      <td>175200</td>\n",
       "    </tr>\n",
       "    <tr>\n",
       "      <th>407</th>\n",
       "      <td>30.0</td>\n",
       "      <td>1720000</td>\n",
       "      <td>8800.0</td>\n",
       "      <td>75.0</td>\n",
       "      <td>174400</td>\n",
       "    </tr>\n",
       "  </tbody>\n",
       "</table>\n",
       "<p>408 rows × 5 columns</p>\n",
       "</div>"
      ],
      "text/plain": [
       "     Priceperweek  Population  Monthlyincome  Averageparkingpermonth  \\\n",
       "0            15.0     1800000         5800.0                    50.0   \n",
       "1            15.0     1790000         6200.0                    50.0   \n",
       "2            15.0     1780000         6400.0                    60.0   \n",
       "3            25.0     1778000         6500.0                    60.0   \n",
       "4            25.0     1750000         6550.0                    60.0   \n",
       "..            ...         ...            ...                     ...   \n",
       "403          25.0     1750000         6550.0                    60.0   \n",
       "404          25.0     1740000         6580.0                    70.0   \n",
       "405          25.0     1725000         8200.0                    75.0   \n",
       "406          30.0     1725000         8600.0                    75.0   \n",
       "407          30.0     1720000         8800.0                    75.0   \n",
       "\n",
       "     Numberofweeklyriders  \n",
       "0                  192000  \n",
       "1                  190400  \n",
       "2                  191200  \n",
       "3                  177600  \n",
       "4                  176800  \n",
       "..                    ...  \n",
       "403                176800  \n",
       "404                178400  \n",
       "405                180800  \n",
       "406                175200  \n",
       "407                174400  \n",
       "\n",
       "[408 rows x 5 columns]"
      ]
     },
     "execution_count": 19,
     "metadata": {},
     "output_type": "execute_result"
    }
   ],
   "source": [
    "df"
   ]
  },
  {
   "cell_type": "code",
   "execution_count": 20,
   "id": "c879de1c",
   "metadata": {},
   "outputs": [
    {
     "data": {
      "text/plain": [
       "Priceperweek              float64\n",
       "Population                  int64\n",
       "Monthlyincome             float64\n",
       "Averageparkingpermonth    float64\n",
       "Numberofweeklyriders        int64\n",
       "dtype: object"
      ]
     },
     "execution_count": 20,
     "metadata": {},
     "output_type": "execute_result"
    }
   ],
   "source": [
    "df.dtypes"
   ]
  },
  {
   "cell_type": "code",
   "execution_count": 21,
   "id": "a4a5da2e",
   "metadata": {},
   "outputs": [
    {
     "data": {
      "text/plain": [
       "<AxesSubplot:xlabel='Priceperweek', ylabel='count'>"
      ]
     },
     "execution_count": 21,
     "metadata": {},
     "output_type": "execute_result"
    },
    {
     "data": {
      "image/png": "[encoded data removed]",
      "text/plain": [
       "<Figure size 432x288 with 1 Axes>"
      ]
     },
     "metadata": {
      "needs_background": "light"
     },
     "output_type": "display_data"
    }
   ],
   "source": [
    "sns.countplot(x='Priceperweek',data=df)"
   ]
  },
  {
   "cell_type": "code",
   "execution_count": 22,
   "id": "6864290c",
   "metadata": {},
   "outputs": [
    {
     "data": {
      "text/plain": [
       "<AxesSubplot:>"
      ]
     },
     "execution_count": 22,
     "metadata": {},
     "output_type": "execute_result"
    },
    {
     "data": {
      "image/png": "[encoded data removed]",
      "text/plain": [
       "<Figure size 432x288 with 1 Axes>"
      ]
     },
     "metadata": {
      "needs_background": "light"
     },
     "output_type": "display_data"
    }
   ],
   "source": [
    "df['Monthlyincome'].hist(alpha=0.5,bins=20)"
   ]
  },
  {
   "cell_type": "code",
   "execution_count": 23,
   "id": "57b67808",
   "metadata": {},
   "outputs": [
    {
     "data": {
      "text/plain": [
       "<AxesSubplot:xlabel='Numberofweeklyriders', ylabel='count'>"
      ]
     },
     "execution_count": 23,
     "metadata": {},
     "output_type": "execute_result"
    },
    {
     "data": {
      "image/png": "[encoded data removed]",
      "text/plain": [
       "<Figure size 432x288 with 1 Axes>"
      ]
     },
     "metadata": {
      "needs_background": "light"
     },
     "output_type": "display_data"
    }
   ],
   "source": [
    "sns.countplot(x='Numberofweeklyriders',hue=\"Priceperweek\",data=df)"
   ]
  },
  {
   "cell_type": "code",
   "execution_count": 24,
   "id": "c7095101",
   "metadata": {},
   "outputs": [
    {
     "data": {
      "text/plain": [
       "<AxesSubplot:>"
      ]
     },
     "execution_count": 24,
     "metadata": {},
     "output_type": "execute_result"
    },
    {
     "data": {
      "image/png": "[encoded data removed]",
      "text/plain": [
       "<Figure size 432x288 with 1 Axes>"
      ]
     },
     "metadata": {
      "needs_background": "light"
     },
     "output_type": "display_data"
    }
   ],
   "source": [
    "df['Population'].hist(alpha=0.5,bins=20)"
   ]
  },
  {
   "cell_type": "code",
   "execution_count": 25,
   "id": "5aac706d",
   "metadata": {},
   "outputs": [
    {
     "data": {
      "text/plain": [
       "<AxesSubplot:>"
      ]
     },
     "execution_count": 25,
     "metadata": {},
     "output_type": "execute_result"
    },
    {
     "data": {
      "image/png": "[encoded data removed]",
      "text/plain": [
       "<Figure size 432x288 with 1 Axes>"
      ]
     },
     "metadata": {
      "needs_background": "light"
     },
     "output_type": "display_data"
    }
   ],
   "source": [
    "df['Priceperweek'].hist(alpha=0.5,bins=20)"
   ]
  },
  {
   "cell_type": "code",
   "execution_count": 26,
   "id": "5523d391",
   "metadata": {},
   "outputs": [],
   "source": [
    "from sklearn.model_selection import train_test_split\n",
    "from sklearn.metrics import accuracy_score\n",
    "from sklearn.metrics import confusion_matrix\n",
    "from sklearn.metrics import classification_report"
   ]
  },
  {
   "cell_type": "code",
   "execution_count": 27,
   "id": "dd9510db",
   "metadata": {},
   "outputs": [],
   "source": [
    "X=df[['Priceperweek','Population','Monthlyincome','Averageparkingpermonth']]\n",
    "y=df[['Numberofweeklyriders']]"
   ]
  },
  {
   "cell_type": "code",
   "execution_count": 28,
   "id": "a28bc300",
   "metadata": {},
   "outputs": [
    {
     "data": {
      "text/html": [
       "<div>\n",
       "<style scoped>\n",
       "    .dataframe tbody tr th:only-of-type {\n",
       "        vertical-align: middle;\n",
       "    }\n",
       "\n",
       "    .dataframe tbody tr th {\n",
       "        vertical-align: top;\n",
       "    }\n",
       "\n",
       "    .dataframe thead th {\n",
       "        text-align: right;\n",
       "    }\n",
       "</style>\n",
       "<table border=\"1\" class=\"dataframe\">\n",
       "  <thead>\n",
       "    <tr style=\"text-align: right;\">\n",
       "      <th></th>\n",
       "      <th>Priceperweek</th>\n",
       "      <th>Population</th>\n",
       "      <th>Monthlyincome</th>\n",
       "      <th>Averageparkingpermonth</th>\n",
       "    </tr>\n",
       "  </thead>\n",
       "  <tbody>\n",
       "    <tr>\n",
       "      <th>0</th>\n",
       "      <td>15.0</td>\n",
       "      <td>1800000</td>\n",
       "      <td>5800.0</td>\n",
       "      <td>50.0</td>\n",
       "    </tr>\n",
       "    <tr>\n",
       "      <th>1</th>\n",
       "      <td>15.0</td>\n",
       "      <td>1790000</td>\n",
       "      <td>6200.0</td>\n",
       "      <td>50.0</td>\n",
       "    </tr>\n",
       "    <tr>\n",
       "      <th>2</th>\n",
       "      <td>15.0</td>\n",
       "      <td>1780000</td>\n",
       "      <td>6400.0</td>\n",
       "      <td>60.0</td>\n",
       "    </tr>\n",
       "    <tr>\n",
       "      <th>3</th>\n",
       "      <td>25.0</td>\n",
       "      <td>1778000</td>\n",
       "      <td>6500.0</td>\n",
       "      <td>60.0</td>\n",
       "    </tr>\n",
       "    <tr>\n",
       "      <th>4</th>\n",
       "      <td>25.0</td>\n",
       "      <td>1750000</td>\n",
       "      <td>6550.0</td>\n",
       "      <td>60.0</td>\n",
       "    </tr>\n",
       "    <tr>\n",
       "      <th>...</th>\n",
       "      <td>...</td>\n",
       "      <td>...</td>\n",
       "      <td>...</td>\n",
       "      <td>...</td>\n",
       "    </tr>\n",
       "    <tr>\n",
       "      <th>403</th>\n",
       "      <td>25.0</td>\n",
       "      <td>1750000</td>\n",
       "      <td>6550.0</td>\n",
       "      <td>60.0</td>\n",
       "    </tr>\n",
       "    <tr>\n",
       "      <th>404</th>\n",
       "      <td>25.0</td>\n",
       "      <td>1740000</td>\n",
       "      <td>6580.0</td>\n",
       "      <td>70.0</td>\n",
       "    </tr>\n",
       "    <tr>\n",
       "      <th>405</th>\n",
       "      <td>25.0</td>\n",
       "      <td>1725000</td>\n",
       "      <td>8200.0</td>\n",
       "      <td>75.0</td>\n",
       "    </tr>\n",
       "    <tr>\n",
       "      <th>406</th>\n",
       "      <td>30.0</td>\n",
       "      <td>1725000</td>\n",
       "      <td>8600.0</td>\n",
       "      <td>75.0</td>\n",
       "    </tr>\n",
       "    <tr>\n",
       "      <th>407</th>\n",
       "      <td>30.0</td>\n",
       "      <td>1720000</td>\n",
       "      <td>8800.0</td>\n",
       "      <td>75.0</td>\n",
       "    </tr>\n",
       "  </tbody>\n",
       "</table>\n",
       "<p>408 rows × 4 columns</p>\n",
       "</div>"
      ],
      "text/plain": [
       "     Priceperweek  Population  Monthlyincome  Averageparkingpermonth\n",
       "0            15.0     1800000         5800.0                    50.0\n",
       "1            15.0     1790000         6200.0                    50.0\n",
       "2            15.0     1780000         6400.0                    60.0\n",
       "3            25.0     1778000         6500.0                    60.0\n",
       "4            25.0     1750000         6550.0                    60.0\n",
       "..            ...         ...            ...                     ...\n",
       "403          25.0     1750000         6550.0                    60.0\n",
       "404          25.0     1740000         6580.0                    70.0\n",
       "405          25.0     1725000         8200.0                    75.0\n",
       "406          30.0     1725000         8600.0                    75.0\n",
       "407          30.0     1720000         8800.0                    75.0\n",
       "\n",
       "[408 rows x 4 columns]"
      ]
     },
     "execution_count": 28,
     "metadata": {},
     "output_type": "execute_result"
    }
   ],
   "source": [
    "X"
   ]
  },
  {
   "cell_type": "code",
   "execution_count": 29,
   "id": "8b70fd57",
   "metadata": {},
   "outputs": [
    {
     "data": {
      "text/html": [
       "<div>\n",
       "<style scoped>\n",
       "    .dataframe tbody tr th:only-of-type {\n",
       "        vertical-align: middle;\n",
       "    }\n",
       "\n",
       "    .dataframe tbody tr th {\n",
       "        vertical-align: top;\n",
       "    }\n",
       "\n",
       "    .dataframe thead th {\n",
       "        text-align: right;\n",
       "    }\n",
       "</style>\n",
       "<table border=\"1\" class=\"dataframe\">\n",
       "  <thead>\n",
       "    <tr style=\"text-align: right;\">\n",
       "      <th></th>\n",
       "      <th>Numberofweeklyriders</th>\n",
       "    </tr>\n",
       "  </thead>\n",
       "  <tbody>\n",
       "    <tr>\n",
       "      <th>0</th>\n",
       "      <td>192000</td>\n",
       "    </tr>\n",
       "    <tr>\n",
       "      <th>1</th>\n",
       "      <td>190400</td>\n",
       "    </tr>\n",
       "    <tr>\n",
       "      <th>2</th>\n",
       "      <td>191200</td>\n",
       "    </tr>\n",
       "    <tr>\n",
       "      <th>3</th>\n",
       "      <td>177600</td>\n",
       "    </tr>\n",
       "    <tr>\n",
       "      <th>4</th>\n",
       "      <td>176800</td>\n",
       "    </tr>\n",
       "    <tr>\n",
       "      <th>...</th>\n",
       "      <td>...</td>\n",
       "    </tr>\n",
       "    <tr>\n",
       "      <th>403</th>\n",
       "      <td>176800</td>\n",
       "    </tr>\n",
       "    <tr>\n",
       "      <th>404</th>\n",
       "      <td>178400</td>\n",
       "    </tr>\n",
       "    <tr>\n",
       "      <th>405</th>\n",
       "      <td>180800</td>\n",
       "    </tr>\n",
       "    <tr>\n",
       "      <th>406</th>\n",
       "      <td>175200</td>\n",
       "    </tr>\n",
       "    <tr>\n",
       "      <th>407</th>\n",
       "      <td>174400</td>\n",
       "    </tr>\n",
       "  </tbody>\n",
       "</table>\n",
       "<p>408 rows × 1 columns</p>\n",
       "</div>"
      ],
      "text/plain": [
       "     Numberofweeklyriders\n",
       "0                  192000\n",
       "1                  190400\n",
       "2                  191200\n",
       "3                  177600\n",
       "4                  176800\n",
       "..                    ...\n",
       "403                176800\n",
       "404                178400\n",
       "405                180800\n",
       "406                175200\n",
       "407                174400\n",
       "\n",
       "[408 rows x 1 columns]"
      ]
     },
     "execution_count": 29,
     "metadata": {},
     "output_type": "execute_result"
    }
   ],
   "source": [
    "y"
   ]
  },
  {
   "cell_type": "code",
   "execution_count": 30,
   "id": "82c375d0",
   "metadata": {},
   "outputs": [],
   "source": [
    "X_train,X_test,y_train,y_test = train_test_split(X,y,test_size=0.2)"
   ]
  },
  {
   "cell_type": "markdown",
   "id": "81433fc2",
   "metadata": {},
   "source": [
    "# Model Building"
   ]
  },
  {
   "cell_type": "code",
   "execution_count": 31,
   "id": "143324d3",
   "metadata": {},
   "outputs": [
    {
     "name": "stderr",
     "output_type": "stream",
     "text": [
      "C:\\anaconda\\lib\\site-packages\\sklearn\\neighbors\\_classification.py:179: DataConversionWarning: A column-vector y was passed when a 1d array was expected. Please change the shape of y to (n_samples,), for example using ravel().\n",
      "  return self._fit(X, y)\n"
     ]
    },
    {
     "data": {
      "text/plain": [
       "array([175200, 115696, 147200, 160800, 173920, 147200, 152800, 123888,\n",
       "       147200, 173920, 191200, 152000, 126080, 152000, 178400, 173920,\n",
       "       154600, 174400, 180800, 177600, 115696, 190400, 152000, 126080,\n",
       "       180800, 174400, 164300, 178400, 175200, 152800, 152800, 175200,\n",
       "       115696, 152000, 151680, 154600, 174400, 176800, 173920, 159200,\n",
       "       151680, 150400, 191200, 178400, 154600, 147200, 115696, 190400,\n",
       "       126080, 180800, 175200, 136000, 161600, 154600, 147200, 867540,\n",
       "       180800, 180800, 180800, 136000, 180800, 175200, 180800, 152000,\n",
       "       154600, 154600, 151680, 174400, 126080, 136000, 180800, 174400,\n",
       "       175200, 151680, 126240, 147200, 147200, 175200, 151680, 136000,\n",
       "       190400, 174400], dtype=int64)"
      ]
     },
     "execution_count": 31,
     "metadata": {},
     "output_type": "execute_result"
    }
   ],
   "source": [
    "from sklearn.neighbors import KNeighborsClassifier\n",
    "model1=KNeighborsClassifier()\n",
    "model1.fit(X_train,y_train)\n",
    "y_pred=model1.predict(X_test)\n",
    "y_pred"
   ]
  },
  {
   "cell_type": "code",
   "execution_count": 32,
   "id": "4c2bdcde",
   "metadata": {},
   "outputs": [
    {
     "data": {
      "text/plain": [
       "0.9512195121951219"
      ]
     },
     "execution_count": 32,
     "metadata": {},
     "output_type": "execute_result"
    }
   ],
   "source": [
    "acc=accuracy_score(y_test,y_pred)\n",
    "acc"
   ]
  },
  {
   "cell_type": "code",
   "execution_count": 33,
   "id": "9e12f767",
   "metadata": {},
   "outputs": [
    {
     "name": "stderr",
     "output_type": "stream",
     "text": [
      "C:\\anaconda\\lib\\site-packages\\sklearn\\neighbors\\_classification.py:179: DataConversionWarning: A column-vector y was passed when a 1d array was expected. Please change the shape of y to (n_samples,), for example using ravel().\n",
      "  return self._fit(X, y)\n"
     ]
    }
   ],
   "source": [
    "#save the model\n",
    "import pickle\n",
    "import joblib\n",
    "filename=\"uber.pkl\"\n",
    "\n",
    "model1=KNeighborsClassifier()\n",
    "model1.fit(X_train,y_train)\n",
    "\n",
    "pickle.dump(model1,open(filename,'wb'))\n"
   ]
  },
  {
   "cell_type": "code",
   "execution_count": 34,
   "id": "db359d33",
   "metadata": {},
   "outputs": [
    {
     "name": "stdout",
     "output_type": "stream",
     "text": [
      "Requirement already satisfied: xgboost in c:\\anaconda\\lib\\site-packages (1.4.2)\n",
      "Requirement already satisfied: numpy in c:\\anaconda\\lib\\site-packages (from xgboost) (1.20.1)\n",
      "Requirement already satisfied: scipy in c:\\anaconda\\lib\\site-packages (from xgboost) (1.6.2)\n",
      "Note: you may need to restart the kernel to use updated packages.\n"
     ]
    }
   ],
   "source": [
    "pip install xgboost"
   ]
  },
  {
   "cell_type": "code",
   "execution_count": 35,
   "id": "8d8c3fa2",
   "metadata": {},
   "outputs": [],
   "source": [
    "from xgboost import XGBClassifier"
   ]
  },
  {
   "cell_type": "code",
   "execution_count": 36,
   "id": "05494136",
   "metadata": {},
   "outputs": [
    {
     "name": "stdout",
     "output_type": "stream",
     "text": [
      "[09:29:28] WARNING: C:/Users/Administrator/workspace/xgboost-win64_release_1.4.0/src/learner.cc:1095: Starting in XGBoost 1.3.0, the default evaluation metric used with the objective 'multi:softprob' was changed from 'merror' to 'mlogloss'. Explicitly set eval_metric if you'd like to restore the old behavior."
     ]
    },
    {
     "name": "stderr",
     "output_type": "stream",
     "text": [
      "C:\\anaconda\\lib\\site-packages\\xgboost\\sklearn.py:1146: UserWarning: The use of label encoder in XGBClassifier is deprecated and will be removed in a future release. To remove this warning, do the following: 1) Pass option use_label_encoder=False when constructing XGBClassifier object; and 2) Encode your labels (y) as integers starting with 0, i.e. 0, 1, 2, ..., [num_class - 1].\n",
      "  warnings.warn(label_encoder_deprecation_msg, UserWarning)\n",
      "C:\\anaconda\\lib\\site-packages\\sklearn\\utils\\validation.py:63: DataConversionWarning: A column-vector y was passed when a 1d array was expected. Please change the shape of y to (n_samples, ), for example using ravel().\n",
      "  return f(*args, **kwargs)\n"
     ]
    },
    {
     "name": "stdout",
     "output_type": "stream",
     "text": [
      "\n"
     ]
    },
    {
     "data": {
      "text/plain": [
       "XGBClassifier(base_score=0.5, booster='gbtree', colsample_bylevel=1,\n",
       "              colsample_bynode=1, colsample_bytree=1, gamma=0, gpu_id=-1,\n",
       "              importance_type='gain', interaction_constraints='',\n",
       "              learning_rate=0.300000012, max_delta_step=0, max_depth=6,\n",
       "              min_child_weight=1, missing=nan, monotone_constraints='()',\n",
       "              n_estimators=100, n_jobs=8, num_parallel_tree=1,\n",
       "              objective='multi:softprob', random_state=0, reg_alpha=0,\n",
       "              reg_lambda=1, scale_pos_weight=None, subsample=1,\n",
       "              tree_method='exact', validate_parameters=1, verbosity=None)"
      ]
     },
     "execution_count": 36,
     "metadata": {},
     "output_type": "execute_result"
    }
   ],
   "source": [
    "model2=XGBClassifier()\n",
    "model2.fit(X_train,y_train)"
   ]
  },
  {
   "cell_type": "code",
   "execution_count": 37,
   "id": "33430fe1",
   "metadata": {},
   "outputs": [
    {
     "data": {
      "text/plain": [
       "1.0"
      ]
     },
     "execution_count": 37,
     "metadata": {},
     "output_type": "execute_result"
    }
   ],
   "source": [
    "model2.score(X_train,y_train)"
   ]
  },
  {
   "cell_type": "code",
   "execution_count": 38,
   "id": "4e86d928",
   "metadata": {},
   "outputs": [
    {
     "data": {
      "text/plain": [
       "0.9512195121951219"
      ]
     },
     "execution_count": 38,
     "metadata": {},
     "output_type": "execute_result"
    }
   ],
   "source": [
    "y_pred=model2.predict(X_test)\n",
    "accuracy_score(y_test,y_pred)\n",
    "acc"
   ]
  },
  {
   "cell_type": "code",
   "execution_count": 39,
   "id": "667f331a",
   "metadata": {},
   "outputs": [
    {
     "data": {
      "text/plain": [
       "array([[2, 0, 0, 0, 0, 0, 0, 0, 0, 0, 0, 0, 0, 0, 0, 0, 0, 0, 0, 0, 0, 0,\n",
       "        0, 0, 0, 0, 0],\n",
       "       [0, 1, 0, 0, 0, 0, 0, 0, 0, 0, 0, 0, 0, 0, 0, 0, 0, 0, 0, 0, 0, 0,\n",
       "        0, 0, 0, 0, 0],\n",
       "       [0, 0, 2, 0, 0, 0, 0, 0, 0, 0, 0, 0, 0, 0, 0, 0, 0, 0, 0, 0, 0, 0,\n",
       "        0, 0, 0, 0, 0],\n",
       "       [0, 0, 0, 1, 0, 0, 0, 0, 0, 0, 0, 0, 0, 0, 0, 0, 0, 0, 0, 0, 0, 0,\n",
       "        0, 0, 0, 0, 0],\n",
       "       [0, 0, 0, 0, 4, 0, 0, 0, 0, 0, 0, 0, 0, 0, 0, 0, 0, 0, 0, 0, 0, 0,\n",
       "        0, 0, 0, 0, 0],\n",
       "       [0, 0, 0, 0, 0, 7, 0, 0, 0, 0, 0, 0, 0, 0, 0, 0, 0, 0, 0, 0, 0, 0,\n",
       "        0, 0, 0, 0, 0],\n",
       "       [0, 0, 0, 0, 0, 0, 2, 0, 0, 0, 0, 0, 0, 0, 0, 0, 0, 0, 0, 0, 0, 0,\n",
       "        0, 0, 0, 0, 0],\n",
       "       [0, 0, 0, 0, 0, 0, 0, 1, 0, 0, 0, 0, 0, 0, 0, 0, 0, 0, 0, 0, 0, 0,\n",
       "        0, 0, 0, 0, 0],\n",
       "       [0, 0, 0, 0, 0, 0, 0, 0, 5, 0, 0, 0, 0, 0, 0, 0, 0, 0, 0, 0, 0, 0,\n",
       "        0, 0, 0, 0, 0],\n",
       "       [0, 0, 0, 0, 0, 0, 0, 0, 0, 5, 0, 0, 0, 0, 0, 0, 0, 0, 0, 0, 0, 0,\n",
       "        0, 0, 0, 0, 0],\n",
       "       [0, 0, 0, 0, 0, 0, 0, 0, 0, 0, 2, 0, 0, 1, 0, 0, 0, 0, 0, 0, 0, 0,\n",
       "        0, 0, 0, 0, 0],\n",
       "       [0, 0, 0, 0, 0, 0, 0, 0, 0, 0, 0, 6, 0, 0, 0, 0, 0, 0, 0, 0, 0, 0,\n",
       "        0, 0, 0, 0, 0],\n",
       "       [0, 0, 0, 0, 0, 0, 0, 0, 0, 0, 0, 0, 2, 0, 0, 0, 0, 0, 0, 0, 0, 0,\n",
       "        0, 0, 0, 0, 0],\n",
       "       [0, 0, 0, 0, 0, 0, 0, 0, 0, 0, 0, 0, 0, 1, 0, 0, 0, 0, 0, 0, 0, 0,\n",
       "        0, 0, 0, 0, 0],\n",
       "       [0, 0, 0, 0, 0, 0, 0, 0, 0, 0, 0, 0, 0, 0, 1, 0, 0, 0, 0, 0, 0, 0,\n",
       "        0, 0, 0, 0, 0],\n",
       "       [0, 0, 0, 0, 0, 0, 0, 0, 0, 0, 0, 0, 0, 0, 0, 1, 0, 0, 0, 0, 0, 0,\n",
       "        0, 0, 0, 0, 0],\n",
       "       [0, 0, 0, 0, 0, 0, 0, 0, 0, 0, 0, 0, 0, 0, 0, 0, 1, 0, 0, 0, 0, 0,\n",
       "        0, 0, 0, 0, 0],\n",
       "       [0, 0, 0, 0, 0, 0, 0, 0, 0, 0, 0, 0, 0, 0, 0, 0, 0, 4, 0, 0, 0, 0,\n",
       "        0, 0, 0, 0, 0],\n",
       "       [0, 0, 0, 0, 0, 0, 0, 0, 0, 0, 0, 0, 0, 0, 0, 0, 0, 0, 6, 0, 0, 0,\n",
       "        0, 0, 0, 0, 0],\n",
       "       [0, 0, 0, 0, 0, 0, 0, 0, 0, 0, 0, 0, 0, 0, 0, 0, 0, 0, 0, 7, 0, 0,\n",
       "        0, 0, 0, 0, 0],\n",
       "       [0, 0, 0, 0, 0, 0, 0, 0, 0, 0, 0, 0, 0, 0, 0, 0, 0, 0, 0, 0, 1, 0,\n",
       "        0, 0, 0, 0, 0],\n",
       "       [0, 0, 0, 0, 0, 0, 0, 0, 0, 0, 0, 0, 0, 0, 0, 0, 0, 0, 0, 0, 0, 1,\n",
       "        0, 0, 0, 0, 0],\n",
       "       [0, 0, 0, 0, 0, 0, 0, 0, 0, 0, 0, 0, 0, 0, 0, 0, 0, 0, 0, 0, 0, 0,\n",
       "        3, 0, 0, 0, 0],\n",
       "       [0, 0, 0, 0, 0, 0, 0, 0, 0, 0, 0, 0, 0, 0, 0, 0, 0, 0, 0, 0, 0, 0,\n",
       "        0, 9, 0, 0, 0],\n",
       "       [0, 0, 0, 0, 0, 0, 0, 0, 0, 0, 0, 0, 0, 0, 0, 0, 0, 0, 0, 0, 0, 0,\n",
       "        0, 0, 3, 0, 0],\n",
       "       [0, 0, 0, 0, 0, 0, 0, 0, 0, 0, 0, 0, 0, 0, 0, 0, 0, 0, 0, 0, 0, 0,\n",
       "        0, 0, 0, 2, 0],\n",
       "       [0, 0, 0, 0, 0, 0, 0, 0, 0, 0, 0, 0, 0, 0, 0, 0, 0, 0, 0, 0, 0, 0,\n",
       "        0, 0, 0, 0, 1]], dtype=int64)"
      ]
     },
     "execution_count": 39,
     "metadata": {},
     "output_type": "execute_result"
    }
   ],
   "source": [
    "confusion_matrix(y_test,y_pred)"
   ]
  },
  {
   "cell_type": "code",
   "execution_count": 40,
   "id": "59f05583",
   "metadata": {},
   "outputs": [
    {
     "data": {
      "text/plain": [
       "'              precision    recall  f1-score   support\\n\\n      115696       1.00      1.00      1.00         2\\n      123888       1.00      1.00      1.00         1\\n      126080       1.00      1.00      1.00         2\\n      126240       1.00      1.00      1.00         1\\n      136000       1.00      1.00      1.00         4\\n      147200       1.00      1.00      1.00         7\\n      148800       1.00      1.00      1.00         2\\n      150400       1.00      1.00      1.00         1\\n      151680       1.00      1.00      1.00         5\\n      152000       1.00      1.00      1.00         5\\n      152800       1.00      0.67      0.80         3\\n      154600       1.00      1.00      1.00         6\\n      154700       1.00      1.00      1.00         2\\n      159200       0.50      1.00      0.67         1\\n      160800       1.00      1.00      1.00         1\\n      161600       1.00      1.00      1.00         1\\n      164300       1.00      1.00      1.00         1\\n      173920       1.00      1.00      1.00         4\\n      174400       1.00      1.00      1.00         6\\n      175200       1.00      1.00      1.00         7\\n      176800       1.00      1.00      1.00         1\\n      177600       1.00      1.00      1.00         1\\n      178400       1.00      1.00      1.00         3\\n      180800       1.00      1.00      1.00         9\\n      190400       1.00      1.00      1.00         3\\n      191200       1.00      1.00      1.00         2\\n      867540       1.00      1.00      1.00         1\\n\\n    accuracy                           0.99        82\\n   macro avg       0.98      0.99      0.98        82\\nweighted avg       0.99      0.99      0.99        82\\n'"
      ]
     },
     "execution_count": 40,
     "metadata": {},
     "output_type": "execute_result"
    }
   ],
   "source": [
    "classification_report(y_test,y_pred)"
   ]
  },
  {
   "cell_type": "markdown",
   "id": "c895b0aa",
   "metadata": {},
   "source": [
    "# Cross Validation and Hyper Parameter Tuning"
   ]
  },
  {
   "cell_type": "code",
   "execution_count": 41,
   "id": "da3eebb3",
   "metadata": {},
   "outputs": [
    {
     "name": "stdout",
     "output_type": "stream",
     "text": [
      "By KNeighborsClassifier =  0.9512195121951219\n"
     ]
    },
    {
     "name": "stderr",
     "output_type": "stream",
     "text": [
      "C:\\anaconda\\lib\\site-packages\\sklearn\\neighbors\\_classification.py:179: DataConversionWarning: A column-vector y was passed when a 1d array was expected. Please change the shape of y to (n_samples,), for example using ravel().\n",
      "  return self._fit(X, y)\n"
     ]
    }
   ],
   "source": [
    "model1 = KNeighborsClassifier(n_neighbors=5)\n",
    "model1.fit(X_train,y_train)\n",
    "y_pred = model1.predict(X_test)\n",
    "print(\"By KNeighborsClassifier = \",accuracy_score(y_test,y_pred))"
   ]
  },
  {
   "cell_type": "code",
   "execution_count": 42,
   "id": "aef1e84a",
   "metadata": {},
   "outputs": [],
   "source": [
    "#K-FOLD cross validation technique\n",
    "from sklearn.model_selection import cross_val_score"
   ]
  },
  {
   "cell_type": "code",
   "execution_count": 43,
   "id": "bb5a3b8b",
   "metadata": {},
   "outputs": [
    {
     "name": "stderr",
     "output_type": "stream",
     "text": [
      "C:\\anaconda\\lib\\site-packages\\sklearn\\model_selection\\_split.py:666: UserWarning: The least populated class in y has only 4 members, which is less than n_splits=10.\n",
      "  warnings.warn((\"The least populated class in y has only %d\"\n",
      "C:\\anaconda\\lib\\site-packages\\sklearn\\neighbors\\_classification.py:179: DataConversionWarning: A column-vector y was passed when a 1d array was expected. Please change the shape of y to (n_samples,), for example using ravel().\n",
      "  return self._fit(X, y)\n",
      "C:\\anaconda\\lib\\site-packages\\sklearn\\neighbors\\_classification.py:179: DataConversionWarning: A column-vector y was passed when a 1d array was expected. Please change the shape of y to (n_samples,), for example using ravel().\n",
      "  return self._fit(X, y)\n",
      "C:\\anaconda\\lib\\site-packages\\sklearn\\neighbors\\_classification.py:179: DataConversionWarning: A column-vector y was passed when a 1d array was expected. Please change the shape of y to (n_samples,), for example using ravel().\n",
      "  return self._fit(X, y)\n",
      "C:\\anaconda\\lib\\site-packages\\sklearn\\neighbors\\_classification.py:179: DataConversionWarning: A column-vector y was passed when a 1d array was expected. Please change the shape of y to (n_samples,), for example using ravel().\n",
      "  return self._fit(X, y)\n",
      "C:\\anaconda\\lib\\site-packages\\sklearn\\neighbors\\_classification.py:179: DataConversionWarning: A column-vector y was passed when a 1d array was expected. Please change the shape of y to (n_samples,), for example using ravel().\n",
      "  return self._fit(X, y)\n",
      "C:\\anaconda\\lib\\site-packages\\sklearn\\neighbors\\_classification.py:179: DataConversionWarning: A column-vector y was passed when a 1d array was expected. Please change the shape of y to (n_samples,), for example using ravel().\n",
      "  return self._fit(X, y)\n",
      "C:\\anaconda\\lib\\site-packages\\sklearn\\neighbors\\_classification.py:179: DataConversionWarning: A column-vector y was passed when a 1d array was expected. Please change the shape of y to (n_samples,), for example using ravel().\n",
      "  return self._fit(X, y)\n",
      "C:\\anaconda\\lib\\site-packages\\sklearn\\neighbors\\_classification.py:179: DataConversionWarning: A column-vector y was passed when a 1d array was expected. Please change the shape of y to (n_samples,), for example using ravel().\n",
      "  return self._fit(X, y)\n",
      "C:\\anaconda\\lib\\site-packages\\sklearn\\neighbors\\_classification.py:179: DataConversionWarning: A column-vector y was passed when a 1d array was expected. Please change the shape of y to (n_samples,), for example using ravel().\n",
      "  return self._fit(X, y)\n",
      "C:\\anaconda\\lib\\site-packages\\sklearn\\neighbors\\_classification.py:179: DataConversionWarning: A column-vector y was passed when a 1d array was expected. Please change the shape of y to (n_samples,), for example using ravel().\n",
      "  return self._fit(X, y)\n"
     ]
    }
   ],
   "source": [
    "scores=cross_val_score(model1,X,y,cv=10,scoring='accuracy')"
   ]
  },
  {
   "cell_type": "code",
   "execution_count": 44,
   "id": "fd6f85af",
   "metadata": {},
   "outputs": [
    {
     "data": {
      "text/plain": [
       "array([1.        , 1.        , 1.        , 1.        , 1.        ,\n",
       "       1.        , 1.        , 0.97560976, 0.975     , 0.975     ])"
      ]
     },
     "execution_count": 44,
     "metadata": {},
     "output_type": "execute_result"
    }
   ],
   "source": [
    "scores"
   ]
  },
  {
   "cell_type": "code",
   "execution_count": 45,
   "id": "0c9d44ac",
   "metadata": {},
   "outputs": [
    {
     "data": {
      "text/plain": [
       "0.9925609756097561"
      ]
     },
     "execution_count": 45,
     "metadata": {},
     "output_type": "execute_result"
    }
   ],
   "source": [
    "scores.mean()"
   ]
  },
  {
   "cell_type": "code",
   "execution_count": 46,
   "id": "ab6d7a04",
   "metadata": {},
   "outputs": [
    {
     "name": "stderr",
     "output_type": "stream",
     "text": [
      "C:\\anaconda\\lib\\site-packages\\sklearn\\neighbors\\_classification.py:179: DataConversionWarning: A column-vector y was passed when a 1d array was expected. Please change the shape of y to (n_samples,), for example using ravel().\n",
      "  return self._fit(X, y)\n",
      "C:\\anaconda\\lib\\site-packages\\sklearn\\neighbors\\_classification.py:179: DataConversionWarning: A column-vector y was passed when a 1d array was expected. Please change the shape of y to (n_samples,), for example using ravel().\n",
      "  return self._fit(X, y)\n",
      "C:\\anaconda\\lib\\site-packages\\sklearn\\neighbors\\_classification.py:179: DataConversionWarning: A column-vector y was passed when a 1d array was expected. Please change the shape of y to (n_samples,), for example using ravel().\n",
      "  return self._fit(X, y)\n",
      "C:\\anaconda\\lib\\site-packages\\sklearn\\neighbors\\_classification.py:179: DataConversionWarning: A column-vector y was passed when a 1d array was expected. Please change the shape of y to (n_samples,), for example using ravel().\n",
      "  return self._fit(X, y)\n",
      "C:\\anaconda\\lib\\site-packages\\sklearn\\neighbors\\_classification.py:179: DataConversionWarning: A column-vector y was passed when a 1d array was expected. Please change the shape of y to (n_samples,), for example using ravel().\n",
      "  return self._fit(X, y)\n",
      "C:\\anaconda\\lib\\site-packages\\sklearn\\neighbors\\_classification.py:179: DataConversionWarning: A column-vector y was passed when a 1d array was expected. Please change the shape of y to (n_samples,), for example using ravel().\n",
      "  return self._fit(X, y)\n",
      "C:\\anaconda\\lib\\site-packages\\sklearn\\neighbors\\_classification.py:179: DataConversionWarning: A column-vector y was passed when a 1d array was expected. Please change the shape of y to (n_samples,), for example using ravel().\n",
      "  return self._fit(X, y)\n",
      "C:\\anaconda\\lib\\site-packages\\sklearn\\neighbors\\_classification.py:179: DataConversionWarning: A column-vector y was passed when a 1d array was expected. Please change the shape of y to (n_samples,), for example using ravel().\n",
      "  return self._fit(X, y)\n",
      "C:\\anaconda\\lib\\site-packages\\sklearn\\neighbors\\_classification.py:179: DataConversionWarning: A column-vector y was passed when a 1d array was expected. Please change the shape of y to (n_samples,), for example using ravel().\n",
      "  return self._fit(X, y)\n",
      "C:\\anaconda\\lib\\site-packages\\sklearn\\neighbors\\_classification.py:179: DataConversionWarning: A column-vector y was passed when a 1d array was expected. Please change the shape of y to (n_samples,), for example using ravel().\n",
      "  return self._fit(X, y)\n",
      "C:\\anaconda\\lib\\site-packages\\sklearn\\neighbors\\_classification.py:179: DataConversionWarning: A column-vector y was passed when a 1d array was expected. Please change the shape of y to (n_samples,), for example using ravel().\n",
      "  return self._fit(X, y)\n",
      "C:\\anaconda\\lib\\site-packages\\sklearn\\neighbors\\_classification.py:179: DataConversionWarning: A column-vector y was passed when a 1d array was expected. Please change the shape of y to (n_samples,), for example using ravel().\n",
      "  return self._fit(X, y)\n",
      "C:\\anaconda\\lib\\site-packages\\sklearn\\neighbors\\_classification.py:179: DataConversionWarning: A column-vector y was passed when a 1d array was expected. Please change the shape of y to (n_samples,), for example using ravel().\n",
      "  return self._fit(X, y)\n",
      "C:\\anaconda\\lib\\site-packages\\sklearn\\neighbors\\_classification.py:179: DataConversionWarning: A column-vector y was passed when a 1d array was expected. Please change the shape of y to (n_samples,), for example using ravel().\n",
      "  return self._fit(X, y)\n",
      "C:\\anaconda\\lib\\site-packages\\sklearn\\neighbors\\_classification.py:179: DataConversionWarning: A column-vector y was passed when a 1d array was expected. Please change the shape of y to (n_samples,), for example using ravel().\n",
      "  return self._fit(X, y)\n",
      "C:\\anaconda\\lib\\site-packages\\sklearn\\neighbors\\_classification.py:179: DataConversionWarning: A column-vector y was passed when a 1d array was expected. Please change the shape of y to (n_samples,), for example using ravel().\n",
      "  return self._fit(X, y)\n",
      "C:\\anaconda\\lib\\site-packages\\sklearn\\neighbors\\_classification.py:179: DataConversionWarning: A column-vector y was passed when a 1d array was expected. Please change the shape of y to (n_samples,), for example using ravel().\n",
      "  return self._fit(X, y)\n",
      "C:\\anaconda\\lib\\site-packages\\sklearn\\neighbors\\_classification.py:179: DataConversionWarning: A column-vector y was passed when a 1d array was expected. Please change the shape of y to (n_samples,), for example using ravel().\n",
      "  return self._fit(X, y)\n",
      "C:\\anaconda\\lib\\site-packages\\sklearn\\neighbors\\_classification.py:179: DataConversionWarning: A column-vector y was passed when a 1d array was expected. Please change the shape of y to (n_samples,), for example using ravel().\n",
      "  return self._fit(X, y)\n",
      "C:\\anaconda\\lib\\site-packages\\sklearn\\neighbors\\_classification.py:179: DataConversionWarning: A column-vector y was passed when a 1d array was expected. Please change the shape of y to (n_samples,), for example using ravel().\n",
      "  return self._fit(X, y)\n",
      "C:\\anaconda\\lib\\site-packages\\sklearn\\neighbors\\_classification.py:179: DataConversionWarning: A column-vector y was passed when a 1d array was expected. Please change the shape of y to (n_samples,), for example using ravel().\n",
      "  return self._fit(X, y)\n",
      "C:\\anaconda\\lib\\site-packages\\sklearn\\neighbors\\_classification.py:179: DataConversionWarning: A column-vector y was passed when a 1d array was expected. Please change the shape of y to (n_samples,), for example using ravel().\n",
      "  return self._fit(X, y)\n",
      "C:\\anaconda\\lib\\site-packages\\sklearn\\neighbors\\_classification.py:179: DataConversionWarning: A column-vector y was passed when a 1d array was expected. Please change the shape of y to (n_samples,), for example using ravel().\n",
      "  return self._fit(X, y)\n",
      "C:\\anaconda\\lib\\site-packages\\sklearn\\neighbors\\_classification.py:179: DataConversionWarning: A column-vector y was passed when a 1d array was expected. Please change the shape of y to (n_samples,), for example using ravel().\n",
      "  return self._fit(X, y)\n",
      "C:\\anaconda\\lib\\site-packages\\sklearn\\neighbors\\_classification.py:179: DataConversionWarning: A column-vector y was passed when a 1d array was expected. Please change the shape of y to (n_samples,), for example using ravel().\n",
      "  return self._fit(X, y)\n",
      "C:\\anaconda\\lib\\site-packages\\sklearn\\neighbors\\_classification.py:179: DataConversionWarning: A column-vector y was passed when a 1d array was expected. Please change the shape of y to (n_samples,), for example using ravel().\n",
      "  return self._fit(X, y)\n",
      "C:\\anaconda\\lib\\site-packages\\sklearn\\neighbors\\_classification.py:179: DataConversionWarning: A column-vector y was passed when a 1d array was expected. Please change the shape of y to (n_samples,), for example using ravel().\n",
      "  return self._fit(X, y)\n",
      "C:\\anaconda\\lib\\site-packages\\sklearn\\neighbors\\_classification.py:179: DataConversionWarning: A column-vector y was passed when a 1d array was expected. Please change the shape of y to (n_samples,), for example using ravel().\n",
      "  return self._fit(X, y)\n",
      "C:\\anaconda\\lib\\site-packages\\sklearn\\neighbors\\_classification.py:179: DataConversionWarning: A column-vector y was passed when a 1d array was expected. Please change the shape of y to (n_samples,), for example using ravel().\n",
      "  return self._fit(X, y)\n"
     ]
    },
    {
     "data": {
      "text/plain": [
       "{'mean_fit_time': array([0.01191634, 0.01626879, 0.01499665, 0.01134706, 0.00808108,\n",
       "        0.01169819, 0.01504976]),\n",
       " 'std_fit_time': array([0.00727628, 0.00135649, 0.0030261 , 0.00214518, 0.00513593,\n",
       "        0.00211328, 0.00306002]),\n",
       " 'mean_score_time': array([0.02028441, 0.01564872, 0.01706159, 0.01477695, 0.01778412,\n",
       "        0.02035272, 0.01796848]),\n",
       " 'std_score_time': array([0.00272069, 0.00069706, 0.00284043, 0.00581663, 0.00404077,\n",
       "        0.00316808, 0.00299764]),\n",
       " 'param_n_neighbors': masked_array(data=[1, 4, 5, 6, 7, 8, 10],\n",
       "              mask=[False, False, False, False, False, False, False],\n",
       "        fill_value='?',\n",
       "             dtype=object),\n",
       " 'params': [{'n_neighbors': 1},\n",
       "  {'n_neighbors': 4},\n",
       "  {'n_neighbors': 5},\n",
       "  {'n_neighbors': 6},\n",
       "  {'n_neighbors': 7},\n",
       "  {'n_neighbors': 8},\n",
       "  {'n_neighbors': 10}],\n",
       " 'split0_test_score': array([1.        , 1.        , 1.        , 0.91176471, 0.89215686,\n",
       "        0.89215686, 0.8627451 ]),\n",
       " 'split1_test_score': array([1.        , 1.        , 0.99019608, 0.90196078, 0.89215686,\n",
       "        0.89215686, 0.8627451 ]),\n",
       " 'split2_test_score': array([1.        , 1.        , 0.99019608, 0.90196078, 0.89215686,\n",
       "        0.89215686, 0.8627451 ]),\n",
       " 'split3_test_score': array([1.        , 1.        , 0.99019608, 0.90196078, 0.89215686,\n",
       "        0.89215686, 0.8627451 ]),\n",
       " 'mean_test_score': array([1.        , 1.        , 0.99264706, 0.90441176, 0.89215686,\n",
       "        0.89215686, 0.8627451 ]),\n",
       " 'std_test_score': array([0.        , 0.        , 0.00424522, 0.00424522, 0.        ,\n",
       "        0.        , 0.        ]),\n",
       " 'rank_test_score': array([1, 1, 3, 4, 5, 5, 7]),\n",
       " 'split0_train_score': array([1.        , 1.        , 1.        , 0.91176471, 0.89215686,\n",
       "        0.89215686, 0.8627451 ]),\n",
       " 'split1_train_score': array([1.        , 1.        , 0.99346405, 0.90522876, 0.89215686,\n",
       "        0.89215686, 0.8627451 ]),\n",
       " 'split2_train_score': array([1.        , 1.        , 0.99346405, 0.90522876, 0.89215686,\n",
       "        0.89215686, 0.8627451 ]),\n",
       " 'split3_train_score': array([1.        , 1.        , 0.99346405, 0.90522876, 0.89215686,\n",
       "        0.89215686, 0.8627451 ]),\n",
       " 'mean_train_score': array([1.        , 1.        , 0.99509804, 0.90686275, 0.89215686,\n",
       "        0.89215686, 0.8627451 ]),\n",
       " 'std_train_score': array([0.        , 0.        , 0.00283015, 0.00283015, 0.        ,\n",
       "        0.        , 0.        ])}"
      ]
     },
     "execution_count": 46,
     "metadata": {},
     "output_type": "execute_result"
    }
   ],
   "source": [
    "#GridSearch CV\n",
    "from sklearn.model_selection import GridSearchCV\n",
    "gs = GridSearchCV(KNeighborsClassifier(),\n",
    "                 {\n",
    "                     'n_neighbors':[1,4,5,6,7,8,10],\n",
    "                 },cv=4,return_train_score=True)\n",
    "\n",
    "gs.fit(X,y)\n",
    "gs.cv_results_"
   ]
  },
  {
   "cell_type": "code",
   "execution_count": 47,
   "id": "917df4a5",
   "metadata": {},
   "outputs": [
    {
     "data": {
      "text/html": [
       "<div>\n",
       "<style scoped>\n",
       "    .dataframe tbody tr th:only-of-type {\n",
       "        vertical-align: middle;\n",
       "    }\n",
       "\n",
       "    .dataframe tbody tr th {\n",
       "        vertical-align: top;\n",
       "    }\n",
       "\n",
       "    .dataframe thead th {\n",
       "        text-align: right;\n",
       "    }\n",
       "</style>\n",
       "<table border=\"1\" class=\"dataframe\">\n",
       "  <thead>\n",
       "    <tr style=\"text-align: right;\">\n",
       "      <th></th>\n",
       "      <th>mean_fit_time</th>\n",
       "      <th>std_fit_time</th>\n",
       "      <th>mean_score_time</th>\n",
       "      <th>std_score_time</th>\n",
       "      <th>param_n_neighbors</th>\n",
       "      <th>params</th>\n",
       "      <th>split0_test_score</th>\n",
       "      <th>split1_test_score</th>\n",
       "      <th>split2_test_score</th>\n",
       "      <th>split3_test_score</th>\n",
       "      <th>mean_test_score</th>\n",
       "      <th>std_test_score</th>\n",
       "      <th>rank_test_score</th>\n",
       "      <th>split0_train_score</th>\n",
       "      <th>split1_train_score</th>\n",
       "      <th>split2_train_score</th>\n",
       "      <th>split3_train_score</th>\n",
       "      <th>mean_train_score</th>\n",
       "      <th>std_train_score</th>\n",
       "    </tr>\n",
       "  </thead>\n",
       "  <tbody>\n",
       "    <tr>\n",
       "      <th>0</th>\n",
       "      <td>0.011916</td>\n",
       "      <td>0.007276</td>\n",
       "      <td>0.020284</td>\n",
       "      <td>0.002721</td>\n",
       "      <td>1</td>\n",
       "      <td>{'n_neighbors': 1}</td>\n",
       "      <td>1.000000</td>\n",
       "      <td>1.000000</td>\n",
       "      <td>1.000000</td>\n",
       "      <td>1.000000</td>\n",
       "      <td>1.000000</td>\n",
       "      <td>0.000000</td>\n",
       "      <td>1</td>\n",
       "      <td>1.000000</td>\n",
       "      <td>1.000000</td>\n",
       "      <td>1.000000</td>\n",
       "      <td>1.000000</td>\n",
       "      <td>1.000000</td>\n",
       "      <td>0.00000</td>\n",
       "    </tr>\n",
       "    <tr>\n",
       "      <th>1</th>\n",
       "      <td>0.016269</td>\n",
       "      <td>0.001356</td>\n",
       "      <td>0.015649</td>\n",
       "      <td>0.000697</td>\n",
       "      <td>4</td>\n",
       "      <td>{'n_neighbors': 4}</td>\n",
       "      <td>1.000000</td>\n",
       "      <td>1.000000</td>\n",
       "      <td>1.000000</td>\n",
       "      <td>1.000000</td>\n",
       "      <td>1.000000</td>\n",
       "      <td>0.000000</td>\n",
       "      <td>1</td>\n",
       "      <td>1.000000</td>\n",
       "      <td>1.000000</td>\n",
       "      <td>1.000000</td>\n",
       "      <td>1.000000</td>\n",
       "      <td>1.000000</td>\n",
       "      <td>0.00000</td>\n",
       "    </tr>\n",
       "    <tr>\n",
       "      <th>2</th>\n",
       "      <td>0.014997</td>\n",
       "      <td>0.003026</td>\n",
       "      <td>0.017062</td>\n",
       "      <td>0.002840</td>\n",
       "      <td>5</td>\n",
       "      <td>{'n_neighbors': 5}</td>\n",
       "      <td>1.000000</td>\n",
       "      <td>0.990196</td>\n",
       "      <td>0.990196</td>\n",
       "      <td>0.990196</td>\n",
       "      <td>0.992647</td>\n",
       "      <td>0.004245</td>\n",
       "      <td>3</td>\n",
       "      <td>1.000000</td>\n",
       "      <td>0.993464</td>\n",
       "      <td>0.993464</td>\n",
       "      <td>0.993464</td>\n",
       "      <td>0.995098</td>\n",
       "      <td>0.00283</td>\n",
       "    </tr>\n",
       "    <tr>\n",
       "      <th>3</th>\n",
       "      <td>0.011347</td>\n",
       "      <td>0.002145</td>\n",
       "      <td>0.014777</td>\n",
       "      <td>0.005817</td>\n",
       "      <td>6</td>\n",
       "      <td>{'n_neighbors': 6}</td>\n",
       "      <td>0.911765</td>\n",
       "      <td>0.901961</td>\n",
       "      <td>0.901961</td>\n",
       "      <td>0.901961</td>\n",
       "      <td>0.904412</td>\n",
       "      <td>0.004245</td>\n",
       "      <td>4</td>\n",
       "      <td>0.911765</td>\n",
       "      <td>0.905229</td>\n",
       "      <td>0.905229</td>\n",
       "      <td>0.905229</td>\n",
       "      <td>0.906863</td>\n",
       "      <td>0.00283</td>\n",
       "    </tr>\n",
       "    <tr>\n",
       "      <th>4</th>\n",
       "      <td>0.008081</td>\n",
       "      <td>0.005136</td>\n",
       "      <td>0.017784</td>\n",
       "      <td>0.004041</td>\n",
       "      <td>7</td>\n",
       "      <td>{'n_neighbors': 7}</td>\n",
       "      <td>0.892157</td>\n",
       "      <td>0.892157</td>\n",
       "      <td>0.892157</td>\n",
       "      <td>0.892157</td>\n",
       "      <td>0.892157</td>\n",
       "      <td>0.000000</td>\n",
       "      <td>5</td>\n",
       "      <td>0.892157</td>\n",
       "      <td>0.892157</td>\n",
       "      <td>0.892157</td>\n",
       "      <td>0.892157</td>\n",
       "      <td>0.892157</td>\n",
       "      <td>0.00000</td>\n",
       "    </tr>\n",
       "    <tr>\n",
       "      <th>5</th>\n",
       "      <td>0.011698</td>\n",
       "      <td>0.002113</td>\n",
       "      <td>0.020353</td>\n",
       "      <td>0.003168</td>\n",
       "      <td>8</td>\n",
       "      <td>{'n_neighbors': 8}</td>\n",
       "      <td>0.892157</td>\n",
       "      <td>0.892157</td>\n",
       "      <td>0.892157</td>\n",
       "      <td>0.892157</td>\n",
       "      <td>0.892157</td>\n",
       "      <td>0.000000</td>\n",
       "      <td>5</td>\n",
       "      <td>0.892157</td>\n",
       "      <td>0.892157</td>\n",
       "      <td>0.892157</td>\n",
       "      <td>0.892157</td>\n",
       "      <td>0.892157</td>\n",
       "      <td>0.00000</td>\n",
       "    </tr>\n",
       "    <tr>\n",
       "      <th>6</th>\n",
       "      <td>0.015050</td>\n",
       "      <td>0.003060</td>\n",
       "      <td>0.017968</td>\n",
       "      <td>0.002998</td>\n",
       "      <td>10</td>\n",
       "      <td>{'n_neighbors': 10}</td>\n",
       "      <td>0.862745</td>\n",
       "      <td>0.862745</td>\n",
       "      <td>0.862745</td>\n",
       "      <td>0.862745</td>\n",
       "      <td>0.862745</td>\n",
       "      <td>0.000000</td>\n",
       "      <td>7</td>\n",
       "      <td>0.862745</td>\n",
       "      <td>0.862745</td>\n",
       "      <td>0.862745</td>\n",
       "      <td>0.862745</td>\n",
       "      <td>0.862745</td>\n",
       "      <td>0.00000</td>\n",
       "    </tr>\n",
       "  </tbody>\n",
       "</table>\n",
       "</div>"
      ],
      "text/plain": [
       "   mean_fit_time  std_fit_time  mean_score_time  std_score_time  \\\n",
       "0       0.011916      0.007276         0.020284        0.002721   \n",
       "1       0.016269      0.001356         0.015649        0.000697   \n",
       "2       0.014997      0.003026         0.017062        0.002840   \n",
       "3       0.011347      0.002145         0.014777        0.005817   \n",
       "4       0.008081      0.005136         0.017784        0.004041   \n",
       "5       0.011698      0.002113         0.020353        0.003168   \n",
       "6       0.015050      0.003060         0.017968        0.002998   \n",
       "\n",
       "  param_n_neighbors               params  split0_test_score  \\\n",
       "0                 1   {'n_neighbors': 1}           1.000000   \n",
       "1                 4   {'n_neighbors': 4}           1.000000   \n",
       "2                 5   {'n_neighbors': 5}           1.000000   \n",
       "3                 6   {'n_neighbors': 6}           0.911765   \n",
       "4                 7   {'n_neighbors': 7}           0.892157   \n",
       "5                 8   {'n_neighbors': 8}           0.892157   \n",
       "6                10  {'n_neighbors': 10}           0.862745   \n",
       "\n",
       "   split1_test_score  split2_test_score  split3_test_score  mean_test_score  \\\n",
       "0           1.000000           1.000000           1.000000         1.000000   \n",
       "1           1.000000           1.000000           1.000000         1.000000   \n",
       "2           0.990196           0.990196           0.990196         0.992647   \n",
       "3           0.901961           0.901961           0.901961         0.904412   \n",
       "4           0.892157           0.892157           0.892157         0.892157   \n",
       "5           0.892157           0.892157           0.892157         0.892157   \n",
       "6           0.862745           0.862745           0.862745         0.862745   \n",
       "\n",
       "   std_test_score  rank_test_score  split0_train_score  split1_train_score  \\\n",
       "0        0.000000                1            1.000000            1.000000   \n",
       "1        0.000000                1            1.000000            1.000000   \n",
       "2        0.004245                3            1.000000            0.993464   \n",
       "3        0.004245                4            0.911765            0.905229   \n",
       "4        0.000000                5            0.892157            0.892157   \n",
       "5        0.000000                5            0.892157            0.892157   \n",
       "6        0.000000                7            0.862745            0.862745   \n",
       "\n",
       "   split2_train_score  split3_train_score  mean_train_score  std_train_score  \n",
       "0            1.000000            1.000000          1.000000          0.00000  \n",
       "1            1.000000            1.000000          1.000000          0.00000  \n",
       "2            0.993464            0.993464          0.995098          0.00283  \n",
       "3            0.905229            0.905229          0.906863          0.00283  \n",
       "4            0.892157            0.892157          0.892157          0.00000  \n",
       "5            0.892157            0.892157          0.892157          0.00000  \n",
       "6            0.862745            0.862745          0.862745          0.00000  "
      ]
     },
     "execution_count": 47,
     "metadata": {},
     "output_type": "execute_result"
    }
   ],
   "source": [
    "df1=pd.DataFrame(gs.cv_results_)\n",
    "df1"
   ]
  },
  {
   "cell_type": "code",
   "execution_count": 48,
   "id": "df6d7ae0",
   "metadata": {},
   "outputs": [
    {
     "data": {
      "text/html": [
       "<div>\n",
       "<style scoped>\n",
       "    .dataframe tbody tr th:only-of-type {\n",
       "        vertical-align: middle;\n",
       "    }\n",
       "\n",
       "    .dataframe tbody tr th {\n",
       "        vertical-align: top;\n",
       "    }\n",
       "\n",
       "    .dataframe thead th {\n",
       "        text-align: right;\n",
       "    }\n",
       "</style>\n",
       "<table border=\"1\" class=\"dataframe\">\n",
       "  <thead>\n",
       "    <tr style=\"text-align: right;\">\n",
       "      <th></th>\n",
       "      <th>param_n_neighbors</th>\n",
       "      <th>mean_test_score</th>\n",
       "    </tr>\n",
       "  </thead>\n",
       "  <tbody>\n",
       "    <tr>\n",
       "      <th>0</th>\n",
       "      <td>1</td>\n",
       "      <td>1.000000</td>\n",
       "    </tr>\n",
       "    <tr>\n",
       "      <th>1</th>\n",
       "      <td>4</td>\n",
       "      <td>1.000000</td>\n",
       "    </tr>\n",
       "    <tr>\n",
       "      <th>2</th>\n",
       "      <td>5</td>\n",
       "      <td>0.992647</td>\n",
       "    </tr>\n",
       "    <tr>\n",
       "      <th>3</th>\n",
       "      <td>6</td>\n",
       "      <td>0.904412</td>\n",
       "    </tr>\n",
       "    <tr>\n",
       "      <th>4</th>\n",
       "      <td>7</td>\n",
       "      <td>0.892157</td>\n",
       "    </tr>\n",
       "    <tr>\n",
       "      <th>5</th>\n",
       "      <td>8</td>\n",
       "      <td>0.892157</td>\n",
       "    </tr>\n",
       "    <tr>\n",
       "      <th>6</th>\n",
       "      <td>10</td>\n",
       "      <td>0.862745</td>\n",
       "    </tr>\n",
       "  </tbody>\n",
       "</table>\n",
       "</div>"
      ],
      "text/plain": [
       "  param_n_neighbors  mean_test_score\n",
       "0                 1         1.000000\n",
       "1                 4         1.000000\n",
       "2                 5         0.992647\n",
       "3                 6         0.904412\n",
       "4                 7         0.892157\n",
       "5                 8         0.892157\n",
       "6                10         0.862745"
      ]
     },
     "execution_count": 48,
     "metadata": {},
     "output_type": "execute_result"
    }
   ],
   "source": [
    "df1[['param_n_neighbors','mean_test_score']]"
   ]
  },
  {
   "cell_type": "code",
   "execution_count": 49,
   "id": "d2239cdf",
   "metadata": {},
   "outputs": [
    {
     "data": {
      "text/plain": [
       "{'n_neighbors': 1}"
      ]
     },
     "execution_count": 49,
     "metadata": {},
     "output_type": "execute_result"
    }
   ],
   "source": [
    "gs.best_params_"
   ]
  },
  {
   "cell_type": "code",
   "execution_count": 50,
   "id": "51b751cc",
   "metadata": {},
   "outputs": [
    {
     "data": {
      "text/plain": [
       "1.0"
      ]
     },
     "execution_count": 50,
     "metadata": {},
     "output_type": "execute_result"
    }
   ],
   "source": [
    "gs.best_score_"
   ]
  },
  {
   "cell_type": "code",
   "execution_count": 51,
   "id": "f3ac592c",
   "metadata": {},
   "outputs": [
    {
     "name": "stderr",
     "output_type": "stream",
     "text": [
      "C:\\anaconda\\lib\\site-packages\\sklearn\\neighbors\\_classification.py:179: DataConversionWarning: A column-vector y was passed when a 1d array was expected. Please change the shape of y to (n_samples,), for example using ravel().\n",
      "  return self._fit(X, y)\n",
      "C:\\anaconda\\lib\\site-packages\\sklearn\\neighbors\\_classification.py:179: DataConversionWarning: A column-vector y was passed when a 1d array was expected. Please change the shape of y to (n_samples,), for example using ravel().\n",
      "  return self._fit(X, y)\n",
      "C:\\anaconda\\lib\\site-packages\\sklearn\\neighbors\\_classification.py:179: DataConversionWarning: A column-vector y was passed when a 1d array was expected. Please change the shape of y to (n_samples,), for example using ravel().\n",
      "  return self._fit(X, y)\n",
      "C:\\anaconda\\lib\\site-packages\\sklearn\\neighbors\\_classification.py:179: DataConversionWarning: A column-vector y was passed when a 1d array was expected. Please change the shape of y to (n_samples,), for example using ravel().\n",
      "  return self._fit(X, y)\n",
      "C:\\anaconda\\lib\\site-packages\\sklearn\\neighbors\\_classification.py:179: DataConversionWarning: A column-vector y was passed when a 1d array was expected. Please change the shape of y to (n_samples,), for example using ravel().\n",
      "  return self._fit(X, y)\n",
      "C:\\anaconda\\lib\\site-packages\\sklearn\\neighbors\\_classification.py:179: DataConversionWarning: A column-vector y was passed when a 1d array was expected. Please change the shape of y to (n_samples,), for example using ravel().\n",
      "  return self._fit(X, y)\n",
      "C:\\anaconda\\lib\\site-packages\\sklearn\\neighbors\\_classification.py:179: DataConversionWarning: A column-vector y was passed when a 1d array was expected. Please change the shape of y to (n_samples,), for example using ravel().\n",
      "  return self._fit(X, y)\n",
      "C:\\anaconda\\lib\\site-packages\\sklearn\\neighbors\\_classification.py:179: DataConversionWarning: A column-vector y was passed when a 1d array was expected. Please change the shape of y to (n_samples,), for example using ravel().\n",
      "  return self._fit(X, y)\n",
      "C:\\anaconda\\lib\\site-packages\\sklearn\\neighbors\\_classification.py:179: DataConversionWarning: A column-vector y was passed when a 1d array was expected. Please change the shape of y to (n_samples,), for example using ravel().\n",
      "  return self._fit(X, y)\n",
      "C:\\anaconda\\lib\\site-packages\\sklearn\\neighbors\\_classification.py:179: DataConversionWarning: A column-vector y was passed when a 1d array was expected. Please change the shape of y to (n_samples,), for example using ravel().\n",
      "  return self._fit(X, y)\n",
      "C:\\anaconda\\lib\\site-packages\\sklearn\\neighbors\\_classification.py:179: DataConversionWarning: A column-vector y was passed when a 1d array was expected. Please change the shape of y to (n_samples,), for example using ravel().\n",
      "  return self._fit(X, y)\n",
      "C:\\anaconda\\lib\\site-packages\\sklearn\\neighbors\\_classification.py:179: DataConversionWarning: A column-vector y was passed when a 1d array was expected. Please change the shape of y to (n_samples,), for example using ravel().\n",
      "  return self._fit(X, y)\n",
      "C:\\anaconda\\lib\\site-packages\\sklearn\\neighbors\\_classification.py:179: DataConversionWarning: A column-vector y was passed when a 1d array was expected. Please change the shape of y to (n_samples,), for example using ravel().\n",
      "  return self._fit(X, y)\n",
      "C:\\anaconda\\lib\\site-packages\\sklearn\\neighbors\\_classification.py:179: DataConversionWarning: A column-vector y was passed when a 1d array was expected. Please change the shape of y to (n_samples,), for example using ravel().\n",
      "  return self._fit(X, y)\n",
      "C:\\anaconda\\lib\\site-packages\\sklearn\\neighbors\\_classification.py:179: DataConversionWarning: A column-vector y was passed when a 1d array was expected. Please change the shape of y to (n_samples,), for example using ravel().\n",
      "  return self._fit(X, y)\n",
      "C:\\anaconda\\lib\\site-packages\\sklearn\\neighbors\\_classification.py:179: DataConversionWarning: A column-vector y was passed when a 1d array was expected. Please change the shape of y to (n_samples,), for example using ravel().\n",
      "  return self._fit(X, y)\n",
      "C:\\anaconda\\lib\\site-packages\\sklearn\\neighbors\\_classification.py:179: DataConversionWarning: A column-vector y was passed when a 1d array was expected. Please change the shape of y to (n_samples,), for example using ravel().\n",
      "  return self._fit(X, y)\n"
     ]
    },
    {
     "data": {
      "text/plain": [
       "{'mean_fit_time': array([0.01126319, 0.00267899, 0.01508689, 0.01370901]),\n",
       " 'std_fit_time': array([0.00286654, 0.00464015, 0.00179898, 0.00848687]),\n",
       " 'mean_score_time': array([0.02102673, 0.01736754, 0.01521605, 0.01869458]),\n",
       " 'std_score_time': array([0.00663501, 0.0024267 , 0.00340794, 0.00557313]),\n",
       " 'param_n_neighbors': masked_array(data=[1, 10, 7, 6],\n",
       "              mask=[False, False, False, False],\n",
       "        fill_value='?',\n",
       "             dtype=object),\n",
       " 'params': [{'n_neighbors': 1},\n",
       "  {'n_neighbors': 10},\n",
       "  {'n_neighbors': 7},\n",
       "  {'n_neighbors': 6}],\n",
       " 'split0_test_score': array([1.        , 0.8627451 , 0.89215686, 0.91176471]),\n",
       " 'split1_test_score': array([1.        , 0.8627451 , 0.89215686, 0.90196078]),\n",
       " 'split2_test_score': array([1.        , 0.8627451 , 0.89215686, 0.90196078]),\n",
       " 'split3_test_score': array([1.        , 0.8627451 , 0.89215686, 0.90196078]),\n",
       " 'mean_test_score': array([1.        , 0.8627451 , 0.89215686, 0.90441176]),\n",
       " 'std_test_score': array([0.        , 0.        , 0.        , 0.00424522]),\n",
       " 'rank_test_score': array([1, 4, 3, 2]),\n",
       " 'split0_train_score': array([1.        , 0.8627451 , 0.89215686, 0.91176471]),\n",
       " 'split1_train_score': array([1.        , 0.8627451 , 0.89215686, 0.90522876]),\n",
       " 'split2_train_score': array([1.        , 0.8627451 , 0.89215686, 0.90522876]),\n",
       " 'split3_train_score': array([1.        , 0.8627451 , 0.89215686, 0.90522876]),\n",
       " 'mean_train_score': array([1.        , 0.8627451 , 0.89215686, 0.90686275]),\n",
       " 'std_train_score': array([0.        , 0.        , 0.        , 0.00283015])}"
      ]
     },
     "execution_count": 51,
     "metadata": {},
     "output_type": "execute_result"
    }
   ],
   "source": [
    "from sklearn.model_selection import RandomizedSearchCV\n",
    "rs = RandomizedSearchCV(KNeighborsClassifier(),\n",
    "                 {\n",
    "                     'n_neighbors':[1,4,5,6,7,8,10],\n",
    "                 },cv=4,return_train_score=True,n_iter=4)\n",
    "\n",
    "rs.fit(X,y)\n",
    "rs.cv_results_"
   ]
  },
  {
   "cell_type": "code",
   "execution_count": 52,
   "id": "fdac14dd",
   "metadata": {},
   "outputs": [
    {
     "data": {
      "text/html": [
       "<div>\n",
       "<style scoped>\n",
       "    .dataframe tbody tr th:only-of-type {\n",
       "        vertical-align: middle;\n",
       "    }\n",
       "\n",
       "    .dataframe tbody tr th {\n",
       "        vertical-align: top;\n",
       "    }\n",
       "\n",
       "    .dataframe thead th {\n",
       "        text-align: right;\n",
       "    }\n",
       "</style>\n",
       "<table border=\"1\" class=\"dataframe\">\n",
       "  <thead>\n",
       "    <tr style=\"text-align: right;\">\n",
       "      <th></th>\n",
       "      <th>mean_fit_time</th>\n",
       "      <th>std_fit_time</th>\n",
       "      <th>mean_score_time</th>\n",
       "      <th>std_score_time</th>\n",
       "      <th>param_n_neighbors</th>\n",
       "      <th>params</th>\n",
       "      <th>split0_test_score</th>\n",
       "      <th>split1_test_score</th>\n",
       "      <th>split2_test_score</th>\n",
       "      <th>split3_test_score</th>\n",
       "      <th>mean_test_score</th>\n",
       "      <th>std_test_score</th>\n",
       "      <th>rank_test_score</th>\n",
       "      <th>split0_train_score</th>\n",
       "      <th>split1_train_score</th>\n",
       "      <th>split2_train_score</th>\n",
       "      <th>split3_train_score</th>\n",
       "      <th>mean_train_score</th>\n",
       "      <th>std_train_score</th>\n",
       "    </tr>\n",
       "  </thead>\n",
       "  <tbody>\n",
       "    <tr>\n",
       "      <th>0</th>\n",
       "      <td>0.011263</td>\n",
       "      <td>0.002867</td>\n",
       "      <td>0.021027</td>\n",
       "      <td>0.006635</td>\n",
       "      <td>1</td>\n",
       "      <td>{'n_neighbors': 1}</td>\n",
       "      <td>1.000000</td>\n",
       "      <td>1.000000</td>\n",
       "      <td>1.000000</td>\n",
       "      <td>1.000000</td>\n",
       "      <td>1.000000</td>\n",
       "      <td>0.000000</td>\n",
       "      <td>1</td>\n",
       "      <td>1.000000</td>\n",
       "      <td>1.000000</td>\n",
       "      <td>1.000000</td>\n",
       "      <td>1.000000</td>\n",
       "      <td>1.000000</td>\n",
       "      <td>0.00000</td>\n",
       "    </tr>\n",
       "    <tr>\n",
       "      <th>1</th>\n",
       "      <td>0.002679</td>\n",
       "      <td>0.004640</td>\n",
       "      <td>0.017368</td>\n",
       "      <td>0.002427</td>\n",
       "      <td>10</td>\n",
       "      <td>{'n_neighbors': 10}</td>\n",
       "      <td>0.862745</td>\n",
       "      <td>0.862745</td>\n",
       "      <td>0.862745</td>\n",
       "      <td>0.862745</td>\n",
       "      <td>0.862745</td>\n",
       "      <td>0.000000</td>\n",
       "      <td>4</td>\n",
       "      <td>0.862745</td>\n",
       "      <td>0.862745</td>\n",
       "      <td>0.862745</td>\n",
       "      <td>0.862745</td>\n",
       "      <td>0.862745</td>\n",
       "      <td>0.00000</td>\n",
       "    </tr>\n",
       "    <tr>\n",
       "      <th>2</th>\n",
       "      <td>0.015087</td>\n",
       "      <td>0.001799</td>\n",
       "      <td>0.015216</td>\n",
       "      <td>0.003408</td>\n",
       "      <td>7</td>\n",
       "      <td>{'n_neighbors': 7}</td>\n",
       "      <td>0.892157</td>\n",
       "      <td>0.892157</td>\n",
       "      <td>0.892157</td>\n",
       "      <td>0.892157</td>\n",
       "      <td>0.892157</td>\n",
       "      <td>0.000000</td>\n",
       "      <td>3</td>\n",
       "      <td>0.892157</td>\n",
       "      <td>0.892157</td>\n",
       "      <td>0.892157</td>\n",
       "      <td>0.892157</td>\n",
       "      <td>0.892157</td>\n",
       "      <td>0.00000</td>\n",
       "    </tr>\n",
       "    <tr>\n",
       "      <th>3</th>\n",
       "      <td>0.013709</td>\n",
       "      <td>0.008487</td>\n",
       "      <td>0.018695</td>\n",
       "      <td>0.005573</td>\n",
       "      <td>6</td>\n",
       "      <td>{'n_neighbors': 6}</td>\n",
       "      <td>0.911765</td>\n",
       "      <td>0.901961</td>\n",
       "      <td>0.901961</td>\n",
       "      <td>0.901961</td>\n",
       "      <td>0.904412</td>\n",
       "      <td>0.004245</td>\n",
       "      <td>2</td>\n",
       "      <td>0.911765</td>\n",
       "      <td>0.905229</td>\n",
       "      <td>0.905229</td>\n",
       "      <td>0.905229</td>\n",
       "      <td>0.906863</td>\n",
       "      <td>0.00283</td>\n",
       "    </tr>\n",
       "  </tbody>\n",
       "</table>\n",
       "</div>"
      ],
      "text/plain": [
       "   mean_fit_time  std_fit_time  mean_score_time  std_score_time  \\\n",
       "0       0.011263      0.002867         0.021027        0.006635   \n",
       "1       0.002679      0.004640         0.017368        0.002427   \n",
       "2       0.015087      0.001799         0.015216        0.003408   \n",
       "3       0.013709      0.008487         0.018695        0.005573   \n",
       "\n",
       "  param_n_neighbors               params  split0_test_score  \\\n",
       "0                 1   {'n_neighbors': 1}           1.000000   \n",
       "1                10  {'n_neighbors': 10}           0.862745   \n",
       "2                 7   {'n_neighbors': 7}           0.892157   \n",
       "3                 6   {'n_neighbors': 6}           0.911765   \n",
       "\n",
       "   split1_test_score  split2_test_score  split3_test_score  mean_test_score  \\\n",
       "0           1.000000           1.000000           1.000000         1.000000   \n",
       "1           0.862745           0.862745           0.862745         0.862745   \n",
       "2           0.892157           0.892157           0.892157         0.892157   \n",
       "3           0.901961           0.901961           0.901961         0.904412   \n",
       "\n",
       "   std_test_score  rank_test_score  split0_train_score  split1_train_score  \\\n",
       "0        0.000000                1            1.000000            1.000000   \n",
       "1        0.000000                4            0.862745            0.862745   \n",
       "2        0.000000                3            0.892157            0.892157   \n",
       "3        0.004245                2            0.911765            0.905229   \n",
       "\n",
       "   split2_train_score  split3_train_score  mean_train_score  std_train_score  \n",
       "0            1.000000            1.000000          1.000000          0.00000  \n",
       "1            0.862745            0.862745          0.862745          0.00000  \n",
       "2            0.892157            0.892157          0.892157          0.00000  \n",
       "3            0.905229            0.905229          0.906863          0.00283  "
      ]
     },
     "execution_count": 52,
     "metadata": {},
     "output_type": "execute_result"
    }
   ],
   "source": [
    "df2 = pd.DataFrame(rs.cv_results_)\n",
    "df2"
   ]
  },
  {
   "cell_type": "code",
   "execution_count": 53,
   "id": "bcbc0520",
   "metadata": {},
   "outputs": [
    {
     "data": {
      "text/html": [
       "<div>\n",
       "<style scoped>\n",
       "    .dataframe tbody tr th:only-of-type {\n",
       "        vertical-align: middle;\n",
       "    }\n",
       "\n",
       "    .dataframe tbody tr th {\n",
       "        vertical-align: top;\n",
       "    }\n",
       "\n",
       "    .dataframe thead th {\n",
       "        text-align: right;\n",
       "    }\n",
       "</style>\n",
       "<table border=\"1\" class=\"dataframe\">\n",
       "  <thead>\n",
       "    <tr style=\"text-align: right;\">\n",
       "      <th></th>\n",
       "      <th>param_n_neighbors</th>\n",
       "      <th>mean_test_score</th>\n",
       "    </tr>\n",
       "  </thead>\n",
       "  <tbody>\n",
       "    <tr>\n",
       "      <th>0</th>\n",
       "      <td>1</td>\n",
       "      <td>1.000000</td>\n",
       "    </tr>\n",
       "    <tr>\n",
       "      <th>1</th>\n",
       "      <td>10</td>\n",
       "      <td>0.862745</td>\n",
       "    </tr>\n",
       "    <tr>\n",
       "      <th>2</th>\n",
       "      <td>7</td>\n",
       "      <td>0.892157</td>\n",
       "    </tr>\n",
       "    <tr>\n",
       "      <th>3</th>\n",
       "      <td>6</td>\n",
       "      <td>0.904412</td>\n",
       "    </tr>\n",
       "  </tbody>\n",
       "</table>\n",
       "</div>"
      ],
      "text/plain": [
       "  param_n_neighbors  mean_test_score\n",
       "0                 1         1.000000\n",
       "1                10         0.862745\n",
       "2                 7         0.892157\n",
       "3                 6         0.904412"
      ]
     },
     "execution_count": 53,
     "metadata": {},
     "output_type": "execute_result"
    }
   ],
   "source": [
    "df2[['param_n_neighbors','mean_test_score']]"
   ]
  },
  {
   "cell_type": "code",
   "execution_count": 54,
   "id": "6143f629",
   "metadata": {},
   "outputs": [
    {
     "data": {
      "text/plain": [
       "{'n_neighbors': 1}"
      ]
     },
     "execution_count": 54,
     "metadata": {},
     "output_type": "execute_result"
    }
   ],
   "source": [
    "rs.best_params_"
   ]
  },
  {
   "cell_type": "code",
   "execution_count": 55,
   "id": "f91710bb",
   "metadata": {},
   "outputs": [
    {
     "data": {
      "text/plain": [
       "1.0"
      ]
     },
     "execution_count": 55,
     "metadata": {},
     "output_type": "execute_result"
    }
   ],
   "source": [
    "rs.best_score_"
   ]
  },
  {
   "cell_type": "code",
   "execution_count": null,
   "id": "bd1e5cda",
   "metadata": {},
   "outputs": [],
   "source": []
  },
  {
   "cell_type": "code",
   "execution_count": null,
   "id": "b2ebf972",
   "metadata": {},
   "outputs": [],
   "source": []
  }
 ],
 "metadata": {
  "kernelspec": {
   "display_name": "Python 3",
   "language": "python",
   "name": "python3"
  },
  "language_info": {
   "codemirror_mode": {
    "name": "ipython",
    "version": 3
   },
   "file_extension": ".py",
   "mimetype": "text/x-python",
   "name": "python",
   "nbconvert_exporter": "python",
   "pygments_lexer": "ipython3",
   "version": "3.8.8"
  }
 },
 "nbformat": 4,
 "nbformat_minor": 5
}
